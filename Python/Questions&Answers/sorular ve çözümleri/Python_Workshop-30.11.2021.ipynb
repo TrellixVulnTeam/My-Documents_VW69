{
 "cells": [
  {
   "cell_type": "markdown",
   "metadata": {},
   "source": [
    "<h1><center>Python Workshop - 30.11.2021</center></h1>"
   ]
  },
  {
   "cell_type": "markdown",
   "metadata": {},
   "source": [
    "### Question 1\n",
    "```\n",
    "Write a function that returns True if every consecutive sequence of ones is followed by a consecutive sequence of zeroes of the same length.\n",
    "\n",
    "same_length(\"110011100010\") ➞ True\n",
    "\n",
    "same_length(\"101010110\") ➞ False\n",
    "\n",
    "same_length(\"111100001100\") ➞ True\n",
    "\n",
    "same_length(\"111\") ➞ False\n",
    "```"
   ]
  },
  {
   "cell_type": "code",
   "execution_count": 13,
   "metadata": {},
   "outputs": [
    {
     "name": "stdout",
     "output_type": "stream",
     "text": [
      "[1, 2, 1, 0, 1, 2, 3, 2, 1, 0, 1, 0]\n",
      "True\n",
      "You entered a number differs from 1 or 0\n",
      "[1, 2, 3, 4, 3, 2, 1, 0, 1, 2, 1, 0]\n",
      "True\n",
      "[1, 2, 1, 2, 1, 0]\n",
      "True\n"
     ]
    }
   ],
   "source": [
    "def same_length(text):\n",
    "    listem = []\n",
    "    if text.startswith(\"1\"):\n",
    "        for i in range(len(text)):\n",
    "            if text[i] == \"1\":\n",
    "                listem.append(\"1\")\n",
    "            elif text[i] == \"0\":\n",
    "                listem.pop()\n",
    "            else:\n",
    "                return \"You entered a number differs from 1 or 0\"\n",
    "    else:\n",
    "        return False\n",
    "\n",
    "    return not listem\n",
    "\n",
    "\n",
    "print(same_length(\"110011100010\"))\n",
    "print(same_length(\"101010115\"))\n",
    "print(same_length(\"111100001100\"))\n",
    "print(same_length(\"111\"))\n"
   ]
  },
  {
   "cell_type": "markdown",
   "metadata": {},
   "source": [
    "### Question 2\n",
    "```\n",
    "Write a function that groups a string into parentheses cluster. Each cluster should be balanced.\n",
    "split(\"()()()\") ➞ [\"()\", \"()\", \"()\"]\n",
    "\n",
    "split(\"((()))\") ➞ [\"((()))\"]\n",
    "\n",
    "split(\"((()))(())()()(()())\") ➞ [\"((()))\", \"(())\", \"()\", \"()\", \"(()())\"]\n",
    "\n",
    "split(\"((())())(()(()()))\") ➞ [\"((())())\", \"(()(()()))\"]\n",
    "```"
   ]
  },
  {
   "cell_type": "code",
   "execution_count": 14,
   "metadata": {},
   "outputs": [
    {
     "name": "stdout",
     "output_type": "stream",
     "text": [
      "True\n"
     ]
    }
   ],
   "source": [
    "def isValid(s):\n",
    "    bracket_map = {\"(\": \")\", \"[\": \"]\",  \"{\": \"}\"}\n",
    "    open_par = set([\"(\", \"[\", \"{\"])\n",
    "    stack = []\n",
    "    for i in s:\n",
    "        if i in open_par:\n",
    "            stack.append(i)\n",
    "        elif stack and i == bracket_map[stack[-1]]:\n",
    "            stack.pop()\n",
    "        else:\n",
    "            return False\n",
    "    return stack == []\n",
    "\n",
    "\n",
    "combination = input(\n",
    "    'Write a string that contains only `(`, `)`, `{`, `}`, `[` and `]`: ')\n",
    "print(isValid(combination))\n"
   ]
  },
  {
   "cell_type": "markdown",
   "metadata": {},
   "source": [
    "### Question 3\n",
    "```\n",
    "Create a function that returns a list containing the prime factors of whatever integer is passed to it.\n",
    "\n",
    "prime_factors(20) ➞ [2, 2, 5]\n",
    "\n",
    "prime_factors(100) ➞ [2, 2, 5, 5]\n",
    "\n",
    "prime_factors(8912234) ➞ [2, 47, 94811]\n",
    "```"
   ]
  },
  {
   "cell_type": "code",
   "execution_count": 28,
   "metadata": {},
   "outputs": [
    {
     "name": "stdout",
     "output_type": "stream",
     "text": [
      "[2, 2, 5]\n",
      "[2, 2, 5, 5]\n",
      "[2, 47, 94811]\n"
     ]
    }
   ],
   "source": [
    "def prime_factors(number):\n",
    "    result = []\n",
    "    prime = 2\n",
    "    while number > 1:\n",
    "        if number % prime == 0:\n",
    "            result.append(prime)\n",
    "            number //= prime\n",
    "        else:\n",
    "            prime += 1\n",
    "    return result\n",
    "\n",
    "\n",
    "print(prime_factors(20))\n",
    "print(prime_factors(100))\n",
    "print(prime_factors(8912234))\n"
   ]
  },
  {
   "cell_type": "markdown",
   "metadata": {},
   "source": [
    "### Question 4\n",
    "```\n",
    "Create a function that takes a number num and returns each place value in the number.\n",
    "\n",
    "num_split(39) ➞ [30, 9]\n",
    "\n",
    "num_split(-434) ➞ [-400, -30, -4]\n",
    "\n",
    "num_split(100) ➞ [100, 0, 0]\n",
    "```"
   ]
  },
  {
   "cell_type": "code",
   "execution_count": 50,
   "metadata": {},
   "outputs": [
    {
     "name": "stdout",
     "output_type": "stream",
     "text": [
      "[30, 9]\n",
      "[-400, -30, -4]\n",
      "[100, 0, 0]\n"
     ]
    }
   ],
   "source": [
    "def num_split(sayı):\n",
    "    result = []\n",
    "    number = abs(sayı)\n",
    "    for i in range(len(str(number)), 0, -1):\n",
    "        değer = number - (number % 10 ** (i-1))\n",
    "        result.append(değer if sayı > 0 else değer * -1)\n",
    "        number -= number - (number % 10 ** (i-1))\n",
    "\n",
    "    return result\n",
    "\n",
    "\n",
    "print(num_split(39))\n",
    "print(num_split(-434))\n",
    "print(num_split(100))\n"
   ]
  },
  {
   "cell_type": "markdown",
   "metadata": {},
   "source": [
    "### Question 5\n",
    "```\n",
    "Create a function that takes an integer n and returns the factorial of factorials. \n",
    "\n",
    "See below examples for a better understanding:\n",
    "\n",
    "fact_of_fact(4) ➞ 288\n",
    "#4! * 3! * 2! * 1! = 288\n",
    "\n",
    "fact_of_fact(5) ➞ 34560\n",
    "\n",
    "fact_of_fact(6) ➞ 24883200\n",
    "```"
   ]
  },
  {
   "cell_type": "code",
   "execution_count": 59,
   "metadata": {},
   "outputs": [
    {
     "name": "stdout",
     "output_type": "stream",
     "text": [
      "288\n",
      "34560\n",
      "24883200\n"
     ]
    }
   ],
   "source": [
    "def fact_of_fact(number):\n",
    "    carpim = 1\n",
    "    for i in range(2, number + 1):\n",
    "        carpim *= fact(i)\n",
    "    return carpim\n",
    "\n",
    "\n",
    "def fact(number):\n",
    "    sonuc = 1\n",
    "    for i in range(2, number + 1):\n",
    "        sonuc *= i\n",
    "    return sonuc\n",
    "\n",
    "\n",
    "print(fact_of_fact(4))\n",
    "print(fact_of_fact(5))\n",
    "print(fact_of_fact(6))"
   ]
  },
  {
   "cell_type": "markdown",
   "metadata": {},
   "source": [
    "### Question 6\n",
    "```\n",
    "You are given a list which may contain sublists. Your task is to find the depth of the deepest sublist.\n",
    "\n",
    "[a] = 1 depth\n",
    "[[a]] = 2 depth\n",
    "[[[a]]] = 3 depth, etc\n",
    "Examples\n",
    "deepest([1, [2, 3], 4, [5, 6]]) ➞ 2\n",
    "\n",
    "deepest([[[[[[[[[[1]]]]]]]]]]) ➞ 10\n",
    "\n",
    "deepest([1, 4, [1, 4, [1, 4, [1, 4, [5]]]]]) ➞ 5\n",
    "```"
   ]
  },
  {
   "cell_type": "code",
   "execution_count": 32,
   "metadata": {},
   "outputs": [
    {
     "name": "stdout",
     "output_type": "stream",
     "text": [
      "2\n",
      "10\n",
      "5\n",
      "13\n"
     ]
    }
   ],
   "source": [
    "def deepest(l):\n",
    "    if isinstance(l, list):\n",
    "        return 1 + max(deepest(item) for item in l)\n",
    "    else:\n",
    "        return 0\n",
    "\n",
    "\n",
    "print(deepest([1, [2, 3], 4, [5, 6]]))\n",
    "print(deepest([[[[[[[[[[1]]]]]]]]]]))\n",
    "print(deepest([1, 4, [1, 4, [1, 4, [1, 4, [5]]]]]))\n",
    "print(deepest([[1], [[[[[5]]]]], [[[[[[[6]]]]]]], [[[[[[[[[[[[7]]]]]]]]]]]]]))\n"
   ]
  },
  {
   "cell_type": "markdown",
   "metadata": {},
   "source": [
    "### Question 7\n",
    "```\n",
    "\"Loves me, loves me not\" is a traditional game in which a person plucks off all the petals of a flower one by one, saying the phrase \"Loves me\" and \"Loves me not\" when determining whether the one that they love, loves them back.\n",
    "\n",
    "Given a number of petals, return a string which repeats the phrases \"Loves me\" and \"Loves me not\" for every alternating petal, and return the last phrase in all caps. Remember to put a comma and space between phrases.\n",
    "\n",
    "For n = 5: \n",
    "Loves me, Loves me not, Loves me, Loves me not, LOVES ME\n",
    "```"
   ]
  },
  {
   "cell_type": "code",
   "execution_count": 33,
   "metadata": {},
   "outputs": [
    {
     "data": {
      "text/plain": [
       "'Loves me, Loves me not, Loves me, Loves me not, LOVES ME'"
      ]
     },
     "execution_count": 33,
     "metadata": {},
     "output_type": "execute_result"
    }
   ],
   "source": [
    "n = 5\n",
    "\n",
    "text = 'Loves me'\n",
    "res = ''\n",
    "for i in range(1, n + 1):\n",
    "    if i % 2 == 0:\n",
    "        a = text + ' not, '\n",
    "    else:\n",
    "        a = text + ', '\n",
    "    if i != n:\n",
    "        res += a\n",
    "    else:\n",
    "        res += a.upper()\n",
    "res = res.rstrip(', ')\n",
    "res\n"
   ]
  },
  {
   "cell_type": "markdown",
   "metadata": {},
   "source": [
    "### Question 8\n",
    "```\n",
    "Given a string of size n, write functions to perform following operations on string.\n",
    "Left (Or anticlockwise) rotate the given string by d elements (where d <= n).\n",
    "Right (Or clockwise) rotate the given string by d elements (where d <= n). \n",
    "For example given word: \"Hippopotamus\"  \n",
    "\n",
    "result =\n",
    "Left Rotation :  opotamusHipp\n",
    "Right Rotation :  amusHippopot\n",
    "```"
   ]
  },
  {
   "cell_type": "code",
   "execution_count": 40,
   "metadata": {},
   "outputs": [
    {
     "name": "stdout",
     "output_type": "stream",
     "text": [
      "potamusHippo\n",
      "tamusHippopo\n"
     ]
    }
   ],
   "source": [
    "n = 5\n",
    "\n",
    "text = 'Hippopotamus'\n",
    "text2 = text * 2\n",
    "\n",
    "left = text2[n: len(text) + n]\n",
    "right = text2[len(text) - n: - n]\n",
    "\n",
    "print(left)\n",
    "print(right)\n"
   ]
  },
  {
   "cell_type": "markdown",
   "metadata": {},
   "source": [
    "### Question 9\n",
    "```\n",
    "Given two strings s and t, create a function to determine if they are isomorphic. Two strings are isomorphic if the characters in s can be replaced to get t. All occurrences of a character must be replaced with another character while preserving the order of characters. No two characters may map to the same character but a character may map to itself.\n",
    "\n",
    "Examples\n",
    "is_isomorphic(\"egg\", \"add\") ➞ True\n",
    "\n",
    "is_isomorphic(\"aba\", \"baa\") ➞ False\n",
    "\n",
    "is_isomorphic(\"paper\", \"title\") ➞ True\n",
    "```"
   ]
  },
  {
   "cell_type": "code",
   "execution_count": 41,
   "metadata": {},
   "outputs": [
    {
     "name": "stdout",
     "output_type": "stream",
     "text": [
      "True\n"
     ]
    }
   ],
   "source": [
    "x = 'paperbnmmmnn'\n",
    "y = 'titlesdfffdd'\n",
    "dictt = {}\n",
    "result = True\n",
    "\n",
    "if len(x) != len(y):\n",
    "    result = False\n",
    "else:\n",
    "    for i in range(len(x)):\n",
    "        if x[i] not in dictt:\n",
    "            dictt[x[i]] = y[i]\n",
    "        else:\n",
    "            if dictt[x[i]] != y[i]:\n",
    "                result = False\n",
    "\n",
    "# print(dictt)\n",
    "print(result)"
   ]
  },
  {
   "cell_type": "markdown",
   "metadata": {},
   "source": [
    "### Question 10\n",
    "```\n",
    "Imagine you took all the numbers between 0 and n and concatenated them together into a long string. How many digits are there between 0 and n? Write a function that can calculate this.\n",
    "There are 0 digits between 0 and 1, there are 9 digits between 0 and 10 and there are 189 digits between 0 and 100.\n",
    "Examples digits(1) ➞ 0\n",
    "digits(10) ➞ 9\n",
    "digits(100) ➞ 189\n",
    "digits(2020) ➞ 6969\n",
    "Notes The numbers are going to be rather big so creating that string won't be practical.\n",
    "```"
   ]
  },
  {
   "cell_type": "code",
   "execution_count": 49,
   "metadata": {},
   "outputs": [
    {
     "name": "stdout",
     "output_type": "stream",
     "text": [
      "9\n",
      "189\n",
      "6969\n"
     ]
    }
   ],
   "source": [
    "def digits(number):\n",
    "    result = \"\"\n",
    "    for i in range(1, number):\n",
    "        result += str(i)\n",
    "    return len(result)\n",
    "\n",
    "\n",
    "print(digits(10))\n",
    "print(digits(100))\n",
    "print(digits(2020))\n"
   ]
  },
  {
   "cell_type": "markdown",
   "metadata": {},
   "source": [
    "### Question 11\n",
    "```\n",
    "Print square pattern with alphabet symbols: \n",
    "\n",
    "input: pattern('A', 7)\n",
    "\n",
    "output :\n",
    "A A A A A A A \n",
    "B B B B B B B \n",
    "C C C C C C C \n",
    "D D D D D D D \n",
    "E E E E E E E \n",
    "F F F F F F F \n",
    "G G G G G G G \n",
    "```"
   ]
  },
  {
   "cell_type": "code",
   "execution_count": 74,
   "metadata": {
    "scrolled": true
   },
   "outputs": [
    {
     "name": "stdout",
     "output_type": "stream",
     "text": [
      "A A A A A A A \n",
      "B B B B B B B \n",
      "C C C C C C C \n",
      "D D D D D D D \n",
      "E E E E E E E \n",
      "F F F F F F F \n",
      "G G G G G G G \n",
      "X X X X X X X X X \n",
      "Y Y Y Y Y Y Y Y Y \n",
      "Z Z Z Z Z Z Z Z Z \n",
      "A A A A A A A A A \n",
      "B B B B B B B B B \n",
      "C C C C C C C C C \n",
      "D D D D D D D D D \n",
      "E E E E E E E E E \n",
      "F F F F F F F F F \n"
     ]
    }
   ],
   "source": [
    "def pattern(character, number):\n",
    "    for i in range(1, number + 1):\n",
    "        print((chr(((ord(character) + i - 1) - ord(\"A\")) %\n",
    "                   (ord(\"Z\") - ord(\"A\") + 1) + ord(\"A\")) + \" \") * number)\n",
    "\n",
    "\n",
    "pattern('A', 7)\n",
    "pattern('X', 9)\n"
   ]
  },
  {
   "cell_type": "markdown",
   "metadata": {},
   "source": [
    "### Question 12\n",
    "```\n",
    "Given a 3x3 matrix of a completed tic-tac-toe game, create a function that returns whether the game is a win for \"X\", \"O\", or a \"Draw\", where \"X\" and \"O\" represent themselves on the matrix, and \"E\" represents an empty spot.\n",
    "\n",
    "Examples\n",
    "tic_tac_toe([\n",
    "  [\"X\", \"O\", \"X\"],\n",
    "  [\"O\", \"X\",  \"O\"],\n",
    "  [\"O\", \"X\",  \"X\"]\n",
    "]) ➞ \"X\"\n",
    "\n",
    "tic_tac_toe([\n",
    "  [\"O\", \"O\", \"O\"],\n",
    "  [\"O\", \"X\", \"X\"],\n",
    "  [\"E\", \"X\", \"X\"]\n",
    "]) ➞ \"O\"\n",
    "\n",
    "tic_tac_toe([\n",
    "  [\"X\", \"X\", \"O\"],\n",
    "  [\"O\", \"O\", \"X\"],\n",
    "  [\"X\", \"X\", \"O\"]\n",
    "]) ➞ \"Draw\"\n",
    "```"
   ]
  },
  {
   "cell_type": "code",
   "execution_count": 1,
   "metadata": {},
   "outputs": [
    {
     "name": "stdout",
     "output_type": "stream",
     "text": [
      "X\n"
     ]
    }
   ],
   "source": [
    "game = [\n",
    "    [\"X\", \"O\", \"O\"],\n",
    "    [\"O\", \"X\", \"X\"],\n",
    "    [\"X\", \"X\", \"X\"]\n",
    "]\n",
    "\n",
    "result = 'Draw'\n",
    "vertical = list(map(lambda *x: [*x], *game))\n",
    "\n",
    "for i in range(len(game)):\n",
    "    if len(set(game[i])) == 1 and game[i][0] != 'E':\n",
    "        result = game[i][0]\n",
    "        break\n",
    "    elif len(set(vertical[i])) == 1 and vertical[i][0] != 'E':\n",
    "        result = vertical[i][0]\n",
    "        break\n",
    "\n",
    "if result == 'Draw':\n",
    "    if game[0][0] == game[1][1] == game[2][2] and game[0][0] != 'E':\n",
    "        result = game[0][0]\n",
    "    elif game[0][2] == game[1][1] == game[2][0] and game[0][2] != 'E':\n",
    "        result = game[0][2]\n",
    "\n",
    "print(result)\n"
   ]
  },
  {
   "cell_type": "markdown",
   "metadata": {},
   "source": [
    "### Question 13\n",
    "```\n",
    "This problem was asked by Google.\n",
    "The power set of a set is the set of all its subsets. Write a function\n",
    "that, given a set, generates its power set.\n",
    "For example, given the set {1, 2, 3}, it should return {{}, {1}, {2}, {3},\n",
    "{1, 2}, {1, 3}, {2, 3}, {1, 2, 3}}.\n",
    "You may also use a list or array to represent a set.\n",
    "```"
   ]
  },
  {
   "cell_type": "code",
   "execution_count": 25,
   "metadata": {},
   "outputs": [
    {
     "name": "stdout",
     "output_type": "stream",
     "text": [
      "[[], [1], [2], [1, 2], [3], [1, 3], [2, 3], [1, 2, 3], [4], [1, 4], [2, 4], [1, 2, 4], [3, 4], [1, 3, 4], [2, 3, 4], [1, 2, 3, 4], [5], [1, 5], [2, 5], [1, 2, 5], [3, 5], [1, 3, 5], [2, 3, 5], [1, 2, 3, 5], [4, 5], [1, 4, 5], [2, 4, 5], [1, 2, 4, 5], [3, 4, 5], [1, 3, 4, 5], [2, 3, 4, 5], [1, 2, 3, 4, 5]]\n"
     ]
    }
   ],
   "source": [
    "lst = [1, 2, 3, 4, 5]\n",
    "\n",
    "arr = [[]]\n",
    "\n",
    "for i in lst:\n",
    "    for j in arr:\n",
    "        arr = arr + [j + [i]]\n",
    "        \n",
    "print(arr)"
   ]
  },
  {
   "cell_type": "markdown",
   "metadata": {},
   "source": [
    "### Question 14\n",
    "```\n",
    "This problem was asked by Microsoft.\n",
    "A number is considered perfect if its digits sum up to exactly 10. Given a positive integer n, return the n-th perfect number.\n",
    "For example, given 1, you should return 19. Given 2, you should return 28.\n",
    "```"
   ]
  },
  {
   "cell_type": "code",
   "execution_count": 27,
   "metadata": {},
   "outputs": [
    {
     "name": "stdout",
     "output_type": "stream",
     "text": [
      "118\n"
     ]
    }
   ],
   "source": [
    "n = int(input(\"Kaçıncı perfect number'ı görmek istersiniz ? :\"))\n",
    "\n",
    "\n",
    "def perfect(number):\n",
    "    result = []\n",
    "    for i in range(10, 1000):\n",
    "        sum = 0\n",
    "        for j in str(i):\n",
    "            sum += int(j)\n",
    "            if sum == 10:\n",
    "                result.append(i)\n",
    "\n",
    "    return result[number-1]\n",
    "\n",
    "\n",
    "print(perfect(n))\n"
   ]
  },
  {
   "cell_type": "markdown",
   "metadata": {},
   "source": [
    "### Question 15\n",
    "```\n",
    "An identity matrix is defined as a square matrix with 1s running from the top left of the square to the bottom right. The rest are 0s. The identity matrix has applications ranging from machine learning to the general theory of relativity.\n",
    "\n",
    "Create a function that takes an integer n and returns the identity matrix of n x n dimensions. For this challenge, if the integer is negative, return the mirror image of the identity matrix of n x n dimensions.. It does not matter if the mirror image is left-right or top-bottom.\n",
    "\n",
    "Incompatible types passed as n should return the string \"Error\".\n",
    "```"
   ]
  },
  {
   "cell_type": "code",
   "execution_count": null,
   "metadata": {},
   "outputs": [],
   "source": [
    "# import numpy as np\n",
    "\n",
    "# np.identity(5)\n",
    "\n",
    "num = input('Enter an integer > ')\n",
    "\n",
    "nums = num.lstrip('-')\n",
    "\n",
    "lst = []\n",
    "lst3 = []\n",
    "\n",
    "if not nums.isdigit():\n",
    "    print('Error')\n",
    "else:\n",
    "    if int(nums) == 0:\n",
    "        print(lst)\n",
    "    else:\n",
    "        for i in range(int(nums)):\n",
    "            lst2 = []\n",
    "            for j in range(int(nums)):\n",
    "                if i == j:\n",
    "                    lst2.append(1)\n",
    "                else:\n",
    "                    lst2.append(0)\n",
    "            lst3.append(lst2)\n",
    "\n",
    "        if not num.startswith('-'):\n",
    "            for i in lst3:\n",
    "                print(i)\n",
    "        else:\n",
    "            for i in lst3:\n",
    "                print(i[::-1])\n"
   ]
  },
  {
   "cell_type": "markdown",
   "metadata": {},
   "source": [
    "### Question 16\n",
    "```\n",
    "This problem was asked by Yelp.\n",
    "Given a mapping of digits to letters (as in a phone number), and a digit string,return all possible letters the number could represent. You can assume each valid number in the mapping is a single digit.\n",
    "For example if {“2”: [“a”, “b”, “c”], 3: [“d”, “e”, “f”], …} then “23” should return [“ad”, “ae”, “af”, “bd”, “be”, “bf”, “cd”, “ce”, “cf\"].\n",
    "```"
   ]
  },
  {
   "cell_type": "code",
   "execution_count": null,
   "metadata": {},
   "outputs": [],
   "source": [
    "dictt = {2: 'abc', 3: 'def', 4: 'ghi', 5: 'jkl',\n",
    "         6: 'mno', 7: 'pqrs', 8: 'tuv', 9: 'wxyz'}\n",
    "\n",
    "number = 2356\n",
    "\n",
    "str_num = str(number)\n",
    "\n",
    "a = 0\n",
    "b = 1\n",
    "\n",
    "first = dictt[int(str_num[a])]\n",
    "second = dictt[int(str_num[b])]\n",
    "\n",
    "while True:\n",
    "    res = []\n",
    "    for i in first:\n",
    "        for j in second:\n",
    "            res.append(i+j)\n",
    "\n",
    "    if b == len(str_num) - 1:\n",
    "        break\n",
    "    else:\n",
    "        b += 1\n",
    "        first = res\n",
    "        second = dictt[int(str_num[b])]\n",
    "print(res)\n"
   ]
  }
 ],
 "metadata": {
  "kernelspec": {
   "display_name": "Python 3 (ipykernel)",
   "language": "python",
   "name": "python3"
  },
  "language_info": {
   "codemirror_mode": {
    "name": "ipython",
    "version": 3
   },
   "file_extension": ".py",
   "mimetype": "text/x-python",
   "name": "python",
   "nbconvert_exporter": "python",
   "pygments_lexer": "ipython3",
   "version": "3.8.5"
  }
 },
 "nbformat": 4,
 "nbformat_minor": 4
}
