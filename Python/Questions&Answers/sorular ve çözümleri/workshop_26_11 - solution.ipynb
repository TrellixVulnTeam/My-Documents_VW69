{
  "cells": [
    {
      "cell_type": "markdown",
      "metadata": {
        "id": "UO4WBUc0Wtse"
      },
      "source": [
        "                                Exercise-1\n",
        "\n",
        "Convert a Number to Base-2\n",
        "Create a function that returns a base-2 (binary) representation of a base-10 (decimal) string number.\n",
        "To convert is simple: ((2) means base-2 and (10) means base-10) 010101001(2) = 1 + 8 + 32 + 128.\n",
        "\n",
        "Going from right to left, the value of the most right bit is 1,\n",
        "now from that every bit to the left will be x2 the value,\n",
        "value of an 8 bit binary numbers are (256, 128, 64, 32, 16, 8, 4, 2, 1).\n",
        "\n",
        "Examples\n",
        "\n",
        "binary(1) ➞ \"1\"\n",
        "\n",
        "// 1 * 1 = 1\n",
        "\n",
        "binary(5) ➞ \"101\"\n",
        "\n",
        "// 1 * 1 + 1 * 4 = 5\n",
        "\n",
        "binary(10) ➞ \"1010\"\n",
        "\n",
        "// 1 * 2 + 1 * 8 = 10\n",
        "\n",
        "Note (Don't use bin() function)"
      ]
    },
    {
      "cell_type": "code",
      "execution_count": 18,
      "metadata": {
        "id": "2Ao5oWrUWpVY"
      },
      "outputs": [
        {
          "name": "stdout",
          "output_type": "stream",
          "text": [
            "169\n"
          ]
        }
      ],
      "source": [
        "binary = input(\"2 tabanında sayınızı giriniz : \").lstrip(\"0\")\n",
        "\n",
        "sonuc = 0\n",
        "\n",
        "for i in range(len(binary)):\n",
        "    sonuc += int(binary[i]) * 2 ** (len(binary) - i - 1)\n",
        "\n",
        "print(sonuc)\n"
      ]
    },
    {
      "cell_type": "markdown",
      "metadata": {
        "id": "0nPBCPa6WxKP"
      },
      "source": [
        "                              Exercise-2 \n",
        "Check if One Array can be Nested in Another\n",
        "\n",
        "Create a function that returns true if the first array can be nested inside the second.\n",
        "\n",
        "arr1 can be nested inside arr2 if:\n",
        "\n",
        "arr1's min is greater than arr2's min.\n",
        "\n",
        "arr1's max is less than arr2's max.\n",
        "\n",
        "Examples\n",
        "\n",
        "canNest([1, 2, 3, 4], [0, 6]) ➞ True\n",
        "\n",
        "canNest([3, 1], [4, 0]) ➞ True\n",
        "\n",
        "canNest([9, 9, 8], [8, 9]) ➞ False\n",
        "\n",
        "canNest([1, 2, 3, 4], [2, 3]) ➞ False\n",
        "\n",
        "[ ]\n"
      ]
    },
    {
      "cell_type": "code",
      "execution_count": 31,
      "metadata": {
        "id": "vSpMNTCpW3QQ"
      },
      "outputs": [
        {
          "name": "stdout",
          "output_type": "stream",
          "text": [
            "True\n",
            "True\n",
            "False\n",
            "False\n"
          ]
        }
      ],
      "source": [
        "def canNest(list1, list2):\n",
        "    for i in list1:\n",
        "        if i not in range(sorted(list2)[0], sorted(list2)[1]):\n",
        "            return False\n",
        "    \n",
        "    return True\n",
        "\n",
        "print(canNest([1, 2, 3, 4], [0, 6]))\n",
        "print(canNest([3, 1], [4, 0]))\n",
        "print(canNest([9, 9, 8], [8, 9]))\n",
        "print(canNest([1, 2, 3, 4], [2, 3]))"
      ]
    },
    {
      "cell_type": "markdown",
      "metadata": {
        "id": "f9mSIheVW3kw"
      },
      "source": [
        "                                    Exercise-3\n",
        "Move Capital Letters to the Front\n",
        "\n",
        "Create a function that moves all capital letters to the front of a word.\n",
        "\n",
        "Examples\n",
        "\n",
        "cap_to_front(\"hApPy\") ➞ \"APhpy\"\n",
        "\n",
        "cap_to_front(\"moveMENT\") ➞ \"MENTmove\"\n",
        "\n",
        "cap_to_front(\"shOrtCAKE\") ➞ \"OCAKEshrt\""
      ]
    },
    {
      "cell_type": "code",
      "execution_count": 32,
      "metadata": {
        "id": "m9ehWO0HW7f7"
      },
      "outputs": [
        {
          "name": "stdout",
          "output_type": "stream",
          "text": [
            "APhpy\n",
            "MENTmove\n",
            "OCAKEshrt\n"
          ]
        }
      ],
      "source": [
        "def cap_to_front(text):\n",
        "    sonuc = \"\"\n",
        "    for i in range(len(text)):\n",
        "        if text[i] == text[i].upper():\n",
        "            sonuc += text[i]\n",
        "            \n",
        "    for i in range(len(text)):\n",
        "        if text[i] == text[i].lower():\n",
        "            sonuc += text[i]\n",
        "\n",
        "    return sonuc\n",
        "\n",
        "\n",
        "print(cap_to_front(\"hApPy\"))\n",
        "print(cap_to_front(\"moveMENT\"))\n",
        "print(cap_to_front(\"shOrtCAKE\"))\n"
      ]
    },
    {
      "cell_type": "markdown",
      "metadata": {
        "id": "VIH8NS-1W7wl"
      },
      "source": [
        "                                  Exercise-4\n",
        "The Reverser!\n",
        "\n",
        "The \"Reverser\" takes a string as input and returns that string in reverse order, with the opposite case.\n",
        "\n",
        "Examples\n",
        "\n",
        "reverse(\"Hello World\") ➞ \"DLROw OLLEh\"\n",
        "\n",
        "reverse(\"ReVeRsE\") ➞ \"eSrEvEr\"\n",
        "\n",
        "reverse(\"Radar\") ➞ \"RADAr\"\n",
        "\n",
        "Notes\n",
        "\n",
        "There will be no punctuation in any of the test cases."
      ]
    },
    {
      "cell_type": "code",
      "execution_count": 34,
      "metadata": {
        "id": "Iuvqb85DXAbe"
      },
      "outputs": [
        {
          "name": "stdout",
          "output_type": "stream",
          "text": [
            "DLROw OLLEh\n",
            "eSrEvEr\n",
            "RADAr\n"
          ]
        }
      ],
      "source": [
        "def reverse(text):\n",
        "    return text[::-1].swapcase()\n",
        "\n",
        "print(reverse(\"Hello World\"))\n",
        "print(reverse(\"ReVeRsE\"))\n",
        "print(reverse(\"Radar\"))"
      ]
    },
    {
      "cell_type": "markdown",
      "metadata": {
        "id": "bgeGq8lBXAxu"
      },
      "source": [
        "                                    Exercise-5\n",
        "Create a function that retrieves every number that is strictly larger than every number that follows it.\n",
        "Examples\n",
        "\n",
        "[3, 13, 11, 2, 1, 9, 5] ➞ [13, 11, 9, 5]\n",
        "\n",
        "13 is larger than all numbers to its right, etc.\n",
        "\n",
        "[5, 5, 5, 5, 5, 5] ➞ [5]\n",
        "\n",
        "Must be strictly larger.\n",
        "\n",
        "Always include the last number.\n",
        "\n",
        "[5, 9, 8, 7] ➞ [9, 8, 7]\n",
        "\n",
        "Notes\n",
        "\n",
        "The last number in an array is trivially strictly larger than all numbers that follow it (no numbers follow it)."
      ]
    },
    {
      "cell_type": "code",
      "execution_count": 13,
      "metadata": {
        "id": "LEaGU0DcXBul"
      },
      "outputs": [
        {
          "name": "stdout",
          "output_type": "stream",
          "text": [
            "{9, 5, 11, 13}\n",
            "{5}\n",
            "{8, 9, 7}\n"
          ]
        }
      ],
      "source": [
        "def afterMax(listem):\n",
        "    sonuc = []\n",
        "    for i in range(len(listem)):\n",
        "        if listem[i] == max(listem):\n",
        "            sonuc.append(listem[i])\n",
        "            listem[i] = min(listem)\n",
        "\n",
        "    return set(sonuc)\n",
        "\n",
        "\n",
        "print(afterMax([3, 13, 11, 2, 1, 9, 5]))\n",
        "print(afterMax([5, 5, 5, 5]))\n",
        "print(afterMax([5, 9, 8, 7]))\n"
      ]
    },
    {
      "cell_type": "markdown",
      "metadata": {
        "id": "ydJC7lTMXCH1"
      },
      "source": [
        "                                    Exercise - 6\n",
        "C * ns * r * d Str * ngs\n",
        "\n",
        "Someone has attempted to censor my strings by replacing every vowel with a *, l*k* th*s. Luckily, I've been able to find the vowels that were removed.\n",
        "\n",
        "Given a censored string and a string of the censored vowels, return the original uncensored string.\n",
        "\n",
        "Example\n",
        "\n",
        "uncensor(\"Wh * r * d * d my v * w * ls g * ?\", \"eeioeo\") ➞ \"Where did my vowels go?\"\n",
        "\n",
        "uncensor(\"abcd\", \"\") ➞ \"abcd\"\n",
        "\n",
        "uncensor(\"* PP * RC * S * \", \"UEAE\") ➞ \"UPPERCASE\"\n",
        "\n",
        "Notes\n",
        "\n",
        "The vowels are given in the correct order.\n",
        "\n",
        "The number of vowels will match the number of * characters in the censored string."
      ]
    },
    {
      "cell_type": "code",
      "execution_count": 54,
      "metadata": {
        "id": "MoUpvXSEXFmL"
      },
      "outputs": [
        {
          "name": "stdout",
          "output_type": "stream",
          "text": [
            "Where did my vowels go?\n",
            "abcd\n",
            "UPPERCASE\n"
          ]
        }
      ],
      "source": [
        "def uncensor(text, restricted):\n",
        "    for i in range(len(restricted)):\n",
        "        text = text.replace(\" * \", restricted[i], 1)\n",
        "\n",
        "    return text\n",
        "\n",
        "\n",
        "print(uncensor(\"Wh * r *  d * d my v * w * ls g * ?\", \"eeioeo\"))\n",
        "print(uncensor(\"abcd\", \"\"))\n",
        "print(uncensor(\" * PP * RC * S * \", \"UEAE\"))\n"
      ]
    },
    {
      "cell_type": "markdown",
      "metadata": {
        "id": "5HeJI99aXF2r"
      },
      "source": [
        "                                    Exercise -7\n",
        "                                    \n",
        "There is a string, s , of lowercase English letters that is repeated infinitely many times. Given an integer, n , find and print the number of letter a's in the first n letters of the infinite string.\n",
        "\n",
        "Example\n",
        "s = \"abcac\"\n",
        "\n",
        "n = 10\n",
        "\n",
        "The substring we consider is \"abcacabcac\", the first 10 characters of the infinite string. There are 4  occurrences of a in the substring."
      ]
    },
    {
      "cell_type": "code",
      "execution_count": 1,
      "metadata": {
        "id": "M7_acFlkXPLe"
      },
      "outputs": [
        {
          "name": "stdout",
          "output_type": "stream",
          "text": [
            "['abcacabcac', 'bcacabcaca', 'cacabcacab', 'acabcacabc', 'cabcacabca']\n"
          ]
        }
      ],
      "source": [
        "s = \"abcac\"\n",
        "\n",
        "n = 10\n",
        "\n",
        "setim = []\n",
        "\n",
        "for j in range(len(s)):\n",
        "    sonuc = \"\"\n",
        "    for i in range(n):\n",
        "        sonuc += s[(i+j) % len(s)]\n",
        "    setim.append(sonuc)\n",
        "\n",
        "print(setim)\n"
      ]
    },
    {
      "cell_type": "markdown",
      "metadata": {
        "id": "G6s3c68YXPdV"
      },
      "source": [
        "                                Exercise -8\n",
        "Nearest Vowel\n",
        "\n",
        "Given a letter, created a function which returns the nearest vowel to the letter. If two vowels are equidistant to the given letter, return the earlier vowel.\n",
        "\n",
        "Examples\n",
        "\n",
        "nearestVowel(\"b\") ➞ \"a\"\n",
        "\n",
        "nearestVowel(\"s\") ➞ \"u\"\n",
        "\n",
        "nearestVowel(\"c\") ➞ \"a\"\n",
        "\n",
        "nearestVowel(\"i\") ➞ \"i\"\n",
        "\n",
        "Notes\n",
        "\n",
        "All letters will be given in lowercase.\n",
        "\n",
        "There will be no alphabet wrapping involved, meaning the closest vowel to \"z\" should return \"u\", not \"a\"."
      ]
    },
    {
      "cell_type": "code",
      "execution_count": 4,
      "metadata": {},
      "outputs": [
        {
          "name": "stdout",
          "output_type": "stream",
          "text": [
            "i\n",
            "u\n",
            "a\n",
            "i\n"
          ]
        }
      ],
      "source": [
        "def nearestVowel(character):\n",
        "\n",
        "    ord_list = [abs(ord(character) - ord(\"a\")), abs(ord(character) - ord(\"e\")), abs(ord(\n",
        "        character) - ord(\"i\")), abs(ord(character) - ord(\"o\")), abs(ord(character) - ord(\"u\"))]\n",
        "\n",
        "    if min(ord_list) == ord_list[0]:\n",
        "        return \"a\"\n",
        "    elif min(ord_list) == ord_list[1]:\n",
        "        return \"e\"\n",
        "    elif min(ord_list) == ord_list[2]:\n",
        "        return \"i\"\n",
        "    elif min(ord_list) == ord_list[3]:\n",
        "        return \"o\"\n",
        "    else:\n",
        "        return \"u\"\n",
        "\n",
        "\n",
        "print(nearestVowel(\"b\"))\n",
        "print(nearestVowel(\"s\"))\n",
        "print(nearestVowel(\"c\"))\n",
        "print(nearestVowel(\"i\"))\n"
      ]
    }
  ],
  "metadata": {
    "colab": {
      "name": "workshop-26.11.ipynb",
      "provenance": []
    },
    "kernelspec": {
      "display_name": "Python 3",
      "name": "python3"
    },
    "language_info": {
      "codemirror_mode": {
        "name": "ipython",
        "version": 3
      },
      "file_extension": ".py",
      "mimetype": "text/x-python",
      "name": "python",
      "nbconvert_exporter": "python",
      "pygments_lexer": "ipython3",
      "version": "3.8.5"
    }
  },
  "nbformat": 4,
  "nbformat_minor": 0
}
