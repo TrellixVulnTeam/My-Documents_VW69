{
 "cells": [
  {
   "cell_type": "markdown",
   "metadata": {},
   "source": [
    "<h1><center>Python Workshop - 03.12.2021</center></h1>"
   ]
  },
  {
   "cell_type": "markdown",
   "metadata": {},
   "source": [
    "### Question 1\n",
    "```\n",
    "# https://edabit.com/challenge/646cCaFig6AP89YRo\n",
    "\n",
    "With List Comprehension Solution:\n",
    "\n",
    "Write a program that returns a list of all the numbers from 1 to an integer argument. But for multiples of three use “Fizz” instead of the number and for the multiples of five use “Buzz”. For numbers which are multiples of both three and five use “FizzBuzz”.\n",
    "\n",
    "fizz_buzz(10) ➞ [1, 2, \"Fizz\", 4, \"Buzz\", \"Fizz\", 7, 8, \"Fizz\", \"Buzz\"]\n",
    "\n",
    "fizz_buzz(15) ➞ [1, 2, \"Fizz\", 4, \"Buzz\", \"Fizz\", 7, 8, \"Fizz\", \"Buzz\", 11, \"Fizz\", 13, 14, \"FizzBuzz\"] \n",
    "```"
   ]
  },
  {
   "cell_type": "code",
   "execution_count": 1,
   "metadata": {},
   "outputs": [
    {
     "name": "stdout",
     "output_type": "stream",
     "text": [
      "[1, 2, 'Fizz', 4, 'Buzz', 'Fizz', 7, 8, 'Fizz', 'Buzz']\n",
      "[1, 2, 'Fizz', 4, 'Buzz', 'Fizz', 7, 8, 'Fizz', 'Buzz', 11, 'Fizz', 13, 14, 'FizzBuzz']\n"
     ]
    }
   ],
   "source": [
    "def fizz_buzz(number):\n",
    "    listem = []\n",
    "\n",
    "    for i in range(1, number + 1):\n",
    "        text = \"\"\n",
    "        if i % 3 == 0:\n",
    "            text += \"Fizz\"\n",
    "        if i % 5 == 0:\n",
    "            text += \"Buzz\"\n",
    "        if i % 3 != 0 and i % 5 != 0:\n",
    "            listem.append(i)\n",
    "        else:\n",
    "            listem.append(text)\n",
    "    return listem\n",
    "\n",
    "\n",
    "print(fizz_buzz(10))\n",
    "print(fizz_buzz(15))\n"
   ]
  },
  {
   "cell_type": "markdown",
   "metadata": {},
   "source": [
    "### Question 2\n",
    "```\n",
    "https://edabit.com/challenge/vTGXrd5ntYRk3t6Ma\n",
    "\n",
    "An isogram is a word that has no duplicate letters. Create a function that takes a string and returns either True or False depending on whether or not it's an \"isogram\".\n",
    "\n",
    "is_isogram(\"Algorism\") ➞ True\n",
    "\n",
    "is_isogram(\"PasSword\") ➞ False\n",
    "# Not case sensitive.\n",
    "\n",
    "is_isogram(\"Consecutive\") ➞ False\n",
    "\n",
    "Notes\n",
    "Ignore letter case (should not be case sensitive).\n",
    "All test cases contain valid one word strings.\n",
    "```"
   ]
  },
  {
   "cell_type": "code",
   "execution_count": 2,
   "metadata": {},
   "outputs": [
    {
     "name": "stdout",
     "output_type": "stream",
     "text": [
      "True\n",
      "False\n",
      "False\n"
     ]
    }
   ],
   "source": [
    "def is_isogram(txt):\n",
    "    return len(txt.upper()) == len(set(txt.upper()))\n",
    "\n",
    "print(is_isogram(\"Algorism\"))\n",
    "print(is_isogram(\"PasSword\"))\n",
    "print(is_isogram(\"Consecutive\"))"
   ]
  },
  {
   "cell_type": "markdown",
   "metadata": {},
   "source": [
    "### Question 3\n",
    "```\n",
    "https://edabit.com/challenge/fmQ9QvPBWL7N9hSkq\n",
    "\n",
    "Write a function that takes a string, and returns a new string with any duplicate consecutive letters removed.\n",
    "\n",
    "unstretch(\"ppoeemm\") ➞ \"poem\"\n",
    "\n",
    "unstretch(\"wiiiinnnnd\") ➞ \"wind\"\n",
    "\n",
    "unstretch(\"ttiiitllleeee\") ➞ \"title\"\n",
    "\n",
    "unstretch(\"cccccaaarrrbbonnnnn\") ➞ \"carbon\"\n",
    "\n",
    "Final strings won't include words with double letters (e.g. \"passing\", \"lottery\").\n",
    "```"
   ]
  },
  {
   "cell_type": "code",
   "execution_count": 3,
   "metadata": {},
   "outputs": [
    {
     "name": "stdout",
     "output_type": "stream",
     "text": [
      "poem\n",
      "wind\n",
      "title\n",
      "carbon\n"
     ]
    }
   ],
   "source": [
    "def unstretch(word):\n",
    "    word_plus = word[1:] + \" \"\n",
    "    result = \"\"\n",
    "    for i in range(len(word)):\n",
    "        if word[i] != word_plus[i]:\n",
    "            result += word[i]\n",
    "\n",
    "    return result\n",
    "\n",
    "\n",
    "print(unstretch(\"ppoeemm\"))\n",
    "print(unstretch(\"wiiiinnnnd\"))\n",
    "print(unstretch(\"ttiiitllleeee\"))\n",
    "print(unstretch(\"cccccaaarrrbbonnnnn\"))\n"
   ]
  },
  {
   "cell_type": "markdown",
   "metadata": {},
   "source": [
    "### Question 4\n",
    "```\n",
    "https://edabit.com/challenge/6CGomPbu3dK536PH2\n",
    "\n",
    "Create a function that takes in a list and returns a list of the accumulating sum.\n",
    "\n",
    "accumulating_list([1, 2, 3, 4]) ➞ [1, 3, 6, 10]\n",
    "# [1, 3, 6, 10] can be written as  [1, 1 + 2, 1 + 2 + 3, 1 + 2 + 3 + 4]\n",
    "\n",
    "accumulating_list([1, 5, 7]) ➞ [1, 6, 13]\n",
    "\n",
    "accumulating_list([1, 0, 1, 0, 1]) ➞ [1, 1, 2, 2, 3]\n",
    "\n",
    "accumulating_list([]) ➞ []\n",
    "\n",
    "An empty list input [] should return an empty list [].\n",
    "```"
   ]
  },
  {
   "cell_type": "code",
   "execution_count": 8,
   "metadata": {},
   "outputs": [
    {
     "name": "stdout",
     "output_type": "stream",
     "text": [
      "[1, 3, 6, 10]\n",
      "[1, 6, 13]\n",
      "[1, 1, 2, 2, 3]\n",
      "[]\n"
     ]
    }
   ],
   "source": [
    "def accumulating_list(lst):\n",
    "    accumilator = []\n",
    "    for i in range(len(lst)):\n",
    "        accumilator.append(sum(lst[:i + 1]))\n",
    "    return accumilator\n",
    "\n",
    "print(accumulating_list([1, 2, 3, 4]))\n",
    "print(accumulating_list([1, 5, 7]))\n",
    "print(accumulating_list([1, 0, 1, 0, 1]))\n",
    "print(accumulating_list([]))"
   ]
  },
  {
   "cell_type": "markdown",
   "metadata": {},
   "source": [
    "### Question 5\n",
    "```\n",
    "# Write a Python code to sort the list at below without using .sort() method of list. elements of list = [999, 333, 2, 8982, 12, 45, 77, 99, 11] Expected output: [2, 11, 12, 45, 77, 99, 333, 999, 8982]\n",
    "```"
   ]
  },
  {
   "cell_type": "code",
   "execution_count": 5,
   "metadata": {},
   "outputs": [
    {
     "name": "stdout",
     "output_type": "stream",
     "text": [
      "[2, 11, 12, 45, 77, 99, 333, 999, 8982]\n",
      "[2, 11, 12, 45, 77, 99, 333, 999, 8982]\n",
      "[2, 11, 12, 45, 77, 99, 333, 999, 8982]\n"
     ]
    }
   ],
   "source": [
    "elements_of_list = [999, 333, 2, 8982, 12, 45, 77, 99, 11]\n",
    "expected_output = [2, 11, 12, 45, 77, 99, 333, 999, 8982]\n",
    "\n",
    "print(expected_output)\n",
    "print(sorted(elements_of_list))\n",
    "\n",
    "length = len(elements_of_list)\n",
    "result = []\n",
    "\n",
    "for i in range(length):\n",
    "    result.append(min(elements_of_list))\n",
    "    elements_of_list.remove(min(elements_of_list))\n",
    "\n",
    "print(result)\n"
   ]
  },
  {
   "cell_type": "markdown",
   "metadata": {},
   "source": [
    "### Question 6\n",
    "```\n",
    "https://edabit.com/challenge/6vSZmN66xhMRDX8YT\n",
    "\n",
    "Create a function that takes a list of numbers or strings and returns a list with the items from the original list stored into sublists. Items of the same value should be in the same sublist.\n",
    "\n",
    "advanced_sort([2, 1, 2, 1]) ➞ [[2, 2], [1, 1]]\n",
    "\n",
    "advanced_sort([5, 4, 5, 5, 4, 3]) ➞ [[5, 5, 5], [4, 4], [3]]\n",
    "\n",
    "advanced_sort([\"b\", \"a\", \"b\", \"a\", \"c\"]) ➞ [[\"b\", \"b\"], [\"a\", \"a\"], [\"c\"]]\n",
    "\n",
    "Notes\n",
    "The sublists should be returned in the order of each element's first appearance in the given list.\n",
    "```"
   ]
  },
  {
   "cell_type": "code",
   "execution_count": null,
   "metadata": {},
   "outputs": [],
   "source": []
  },
  {
   "cell_type": "markdown",
   "metadata": {},
   "source": [
    "### Question 7\n",
    "```\n",
    "https://edabit.com/challenge/YN33GEpLQqa5imcFx\n",
    "\n",
    "The goal of this challenge is to return Pascal's triangle up to number 29. Pascal's triangle is the sum of the two upper corners.\n",
    "    1\n",
    "   1 1\n",
    "  1 2 1\n",
    " 1 3 3 1\n",
    "\n",
    "# There will always be the 1 in the first\n",
    "# place and the row in the second.\n",
    "\n",
    "Create a function that returns a row from Pascal's triangle. To find the row and column you can use n!/(k!*(n-k)!) where n is the row down and k is the column.\n",
    "\n",
    "pascals_triangle(1) ➞ \"1 1\"\n",
    "\n",
    "pascals_triangle(4) ➞ \"1 4 6 4 1\"\n",
    "\n",
    "pascals_triangle(6) ➞ \"1 6 15 20 15 6 1\"\n",
    "\n",
    "pascals_triangle(8) ➞ \"1 8 28 56 70 56 28 8 1\"\n",
    "```"
   ]
  },
  {
   "cell_type": "code",
   "execution_count": 153,
   "metadata": {},
   "outputs": [
    {
     "name": "stdout",
     "output_type": "stream",
     "text": [
      "1 1\n",
      "1 4 6 4 1\n",
      "1 6 15 20 15 6 1\n",
      "1 8 28 56 70 56 28 8 1\n"
     ]
    }
   ],
   "source": [
    "def son(row):\n",
    "\n",
    "    result = [1]\n",
    "    if row == 0:\n",
    "        return result\n",
    "    elif row > 0:\n",
    "        for i in range(row):\n",
    "            result.append((sum(son(row-1)[i: i + 2])))\n",
    "    return result\n",
    "\n",
    "\n",
    "def pascals_triangle(row):\n",
    "    print(*son(row), sep=\" \")\n",
    "\n",
    "\n",
    "pascals_triangle(1)\n",
    "pascals_triangle(4)\n",
    "pascals_triangle(6)\n",
    "pascals_triangle(8)\n"
   ]
  }
 ],
 "metadata": {
  "kernelspec": {
   "display_name": "Python 3 (ipykernel)",
   "language": "python",
   "name": "python3"
  },
  "language_info": {
   "codemirror_mode": {
    "name": "ipython",
    "version": 3
   },
   "file_extension": ".py",
   "mimetype": "text/x-python",
   "name": "python",
   "nbconvert_exporter": "python",
   "pygments_lexer": "ipython3",
   "version": "3.8.5"
  }
 },
 "nbformat": 4,
 "nbformat_minor": 4
}
