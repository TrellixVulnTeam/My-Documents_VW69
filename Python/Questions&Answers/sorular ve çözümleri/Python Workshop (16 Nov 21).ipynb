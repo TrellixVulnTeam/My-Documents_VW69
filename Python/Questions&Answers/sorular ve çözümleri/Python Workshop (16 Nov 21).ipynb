{
 "cells": [
  {
   "cell_type": "markdown",
   "metadata": {},
   "source": [
    "SORU-1: Kullanıcının belirleyeceği \"n\" adet sayının tek tek girilmesini sağlayarak, bu sayıların toplamını bulan python kodunu yazınız.\n",
    "\n",
    "* For döngüsü kullanılmalıdır"
   ]
  },
  {
   "cell_type": "code",
   "execution_count": 3,
   "metadata": {},
   "outputs": [
    {
     "name": "stdout",
     "output_type": "stream",
     "text": [
      "Girdiğiniz Sayılarınız : [1, 3, 5, 7, 9] ve bunların toplamları 25.\n"
     ]
    }
   ],
   "source": [
    "girilen_sayılar = []\n",
    "\n",
    "n = int(input(\"Kaç adet sayı girilsin :\" ))\n",
    "\n",
    "for i in range(n):\n",
    "    girilen_sayılar.append(int(input(\"{}. sayıyı giriniz : \".format(i+1))))\n",
    "    \n",
    "print(\"Girdiğiniz Sayılarınız : {} ve bunların toplamları : {}.\".format(girilen_sayılar, sum(girilen_sayılar)))"
   ]
  },
  {
   "cell_type": "markdown",
   "metadata": {},
   "source": [
    "SORU-2: Kullanıcıdan alınan dört kenar uzunluğuna göre şeklin kare, dikdörtgen veya diğer dörtgenlerden biri olduğunu belirten python kodunu yazınız.\n",
    "\n",
    "* if-elif-else statement kullanılmalıdır"
   ]
  },
  {
   "cell_type": "code",
   "execution_count": null,
   "metadata": {},
   "outputs": [],
   "source": [
    "kenar_uzunlukları = []\n",
    "\n",
    "for kenar in range(1,5):\n",
    "    kenar_uzunlukları.append(int(input(\"{}. kenar uzunluğunu giriniz : \".format(kenar))))\n",
    "    \n",
    "if kenar[0] == kenar[1] == kenar[2] == kenar[3]:\n",
    "    print(\"Girilen şekil karedir.\")\n",
    "elif kenar[0] == kenar[2] and kenar[1] == kenar[3]:\n",
    "    print(\"Girilen şekil dikdörtgendir.\")\n",
    "else:\n",
    "    print(\"Girilen şekil sıradan dörtgendir.\")"
   ]
  },
  {
   "cell_type": "markdown",
   "metadata": {},
   "source": [
    "SORU-3: Kullanıcının belirleyeceği satır sayısı (n) kadar, \"*\" işaretiyle piramit oluşturan python kodunu yazınız.\n",
    "\n",
    "* For döngüsü kullanılmalıdır\n"
   ]
  },
  {
   "cell_type": "code",
   "execution_count": 9,
   "metadata": {},
   "outputs": [
    {
     "name": "stdout",
     "output_type": "stream",
     "text": [
      "*\n",
      "**\n",
      "***\n",
      "****\n",
      "*****\n",
      "    *\n",
      "   ***\n",
      "  *****\n",
      " *******\n",
      "*********\n"
     ]
    }
   ],
   "source": [
    "n = int(input(\"Kaç satır/adet yıldız olsun :\"))\n",
    "\n",
    "for i in range(n):\n",
    "    print(\"*\" * (i+1))\n",
    "    \n",
    "\n",
    "for i in range(n):\n",
    "    print(\" \" * (n-i-1) + \"*\" * (2 * i + 1))\n"
   ]
  },
  {
   "cell_type": "code",
   "execution_count": 61,
   "metadata": {},
   "outputs": [
    {
     "name": "stdout",
     "output_type": "stream",
     "text": [
      "    \n",
      "   *\n",
      "  ***\n",
      " *****\n",
      "*******\n",
      " *****\n",
      "  ***\n",
      "   *\n"
     ]
    }
   ],
   "source": [
    "boyut=int(input(\"boyut gir :\"))\n",
    "for i in range(boyut):\n",
    "    for k in range((boyut)-i):\n",
    "        print(\" \",end=\"\")\n",
    "    for m in range(i*2-1):\n",
    "        print(\"*\",end=\"\")\n",
    "    print()\n",
    "for i in range(boyut,0,-1):\n",
    "    for k in range((boyut)-i):\n",
    "        print(\" \",end=\"\")\n",
    "    for m in range(i*2-1):\n",
    "        print(\"*\",end=\"\")\n",
    "    print()"
   ]
  },
  {
   "cell_type": "markdown",
   "metadata": {},
   "source": [
    "SORU-4: Kullanıcının yarıçap değerini girdiği bir dairenin, alan ve çevresini hesaplayan python kodunu yazınız.\n",
    "\n",
    "* Fonksiyon tanımlanmalıdır"
   ]
  },
  {
   "cell_type": "code",
   "execution_count": 17,
   "metadata": {},
   "outputs": [
    {
     "name": "stdout",
     "output_type": "stream",
     "text": [
      "Dairenizin alanı : 78.53981633974483 ve çevresi : 31.41592653589793\n"
     ]
    }
   ],
   "source": [
    "import math\n",
    "\n",
    "yarıçap = int(input(\"Yarıçap değerini giriniz :\" ))\n",
    "\n",
    "print(\"Dairenizin alanı : {} ve çevresi : {}\".format(math.pi * yarıçap**2, 2 * math.pi * yarıçap))"
   ]
  },
  {
   "cell_type": "markdown",
   "metadata": {},
   "source": [
    "SORU-5: Kullanıcının girdiği 2 sayı arasındaki çift sayıların ortalamasını bulan python kodunu yazınız.\n",
    "\n",
    "* map() fonksiyonu kullanılmalı ve\n",
    "* Fonksiyon tanımlanmalıdır"
   ]
  },
  {
   "cell_type": "code",
   "execution_count": 15,
   "metadata": {},
   "outputs": [
    {
     "name": "stdout",
     "output_type": "stream",
     "text": [
      "Girdiğiniz ilk sayı :  3\n",
      "Girdiğiniz ikinci sayı :  5\n",
      "Girdiğiniz 2 sayı arasındaki çiftler :  [4]\n",
      "Girdiğiniz 2 sayı arasındaki çiftlerin ortlaması :  4\n"
     ]
    }
   ],
   "source": [
    "sayı_1 = int(input(\"İlk sayıyı giriniz : \"))\n",
    "sayı_2 = int(input(\"İkinci sayıyı giriniz : \"))\n",
    "\n",
    "çiftler = []\n",
    "\n",
    "for i in range(sayı_1 + 1,sayı_2 + 1):\n",
    "    if i % 2 == 0:\n",
    "        çiftler.append(i)\n",
    "        \n",
    "print(\"Girdiğiniz ilk sayı : \" , sayı_1)\n",
    "print(\"Girdiğiniz ikinci sayı : \" ,sayı_2)\n",
    "\n",
    "print(\"Girdiğiniz 2 sayı arasındaki çiftler : \", çiftler)\n",
    "\n",
    "print(\"Girdiğiniz 2 sayı arasındaki çiftlerin ortlaması : \", sum(çiftler)//(len(çiftler)))"
   ]
  },
  {
   "cell_type": "markdown",
   "metadata": {},
   "source": [
    "**SORU-6:** x listesi içinde verilen sayıları birbiriyle çarpan python kodunu yazınız.\n",
    "\n",
    "x = [1, 2, 3, 4, 5]\n",
    "\n",
    "* Fonksiyon tanımlanmalıdır"
   ]
  },
  {
   "cell_type": "code",
   "execution_count": 2,
   "metadata": {},
   "outputs": [
    {
     "name": "stdout",
     "output_type": "stream",
     "text": [
      "120\n"
     ]
    }
   ],
   "source": [
    "x = [1, 2, 3, 4, 5]\n",
    "\n",
    "çarpım = 1\n",
    "\n",
    "for i in range(len(x)):\n",
    "    çarpım *= x[i]\n",
    "\n",
    "print(çarpım)"
   ]
  },
  {
   "cell_type": "markdown",
   "metadata": {},
   "source": [
    "**SORU-7:** Tanımlanan bir liste içinde aranan değerin kaç tane olduğunu bulan Python kodunu yazınız.\n",
    "\n",
    "x = [1, 3, 8, 6, 8, 10, 20, 6, 22, 14, 10, 8, 13, 7, 8] \n",
    "\n",
    "Output = 8 elemanı dizi içinde 4 adet bulunmaktadır\n",
    "\n",
    "* Fonksiyon tanımlanmalıdır"
   ]
  },
  {
   "cell_type": "code",
   "execution_count": 1,
   "metadata": {},
   "outputs": [
    {
     "name": "stdout",
     "output_type": "stream",
     "text": [
      "Output = 5 elemanı dizi içinde bulunmamaktadır.\n"
     ]
    }
   ],
   "source": [
    "x = [1, 3, 8, 6, 8, 10, 20, 6, 22, 14, 10, 8, 13, 7, 8]\n",
    "\n",
    "aranan_sayı = int(input(\"Aradığınız sayıyı giriniz : \"))\n",
    "\n",
    "print(\"Output = {} elemanı dizi içinde {}.\".format(aranan_sayı, x.count(aranan_sayı) and \"{} adet bulunmaktadır\".format(x.count(aranan_sayı)) or \"bulunmamaktadır\"))"
   ]
  },
  {
   "cell_type": "code",
   "execution_count": 2,
   "metadata": {},
   "outputs": [
    {
     "name": "stdout",
     "output_type": "stream",
     "text": [
      "Output = 1 elemanı dizi içinde 1 adet bulunmaktadır.\n",
      "Output = 3 elemanı dizi içinde 1 adet bulunmaktadır.\n",
      "Output = 6 elemanı dizi içinde 2 adet bulunmaktadır.\n",
      "Output = 7 elemanı dizi içinde 1 adet bulunmaktadır.\n",
      "Output = 8 elemanı dizi içinde 4 adet bulunmaktadır.\n",
      "Output = 10 elemanı dizi içinde 2 adet bulunmaktadır.\n",
      "Output = 13 elemanı dizi içinde 1 adet bulunmaktadır.\n",
      "Output = 14 elemanı dizi içinde 1 adet bulunmaktadır.\n",
      "Output = 20 elemanı dizi içinde 1 adet bulunmaktadır.\n",
      "Output = 22 elemanı dizi içinde 1 adet bulunmaktadır.\n"
     ]
    }
   ],
   "source": [
    "for i in set(sorted(x)):\n",
    "    print(\"Output = {} elemanı dizi içinde {} adet bulunmaktadır.\".format(i, x.count(i)))"
   ]
  },
  {
   "cell_type": "markdown",
   "metadata": {},
   "source": [
    "**SORU-8:** Kullanıcıdan oluşturduğu listedeki herhangi iki elamanın yerini değiştiren python kodunu yazınız.\n",
    "\n",
    "* map() fonksiyonu kullanılmalı ve\n",
    "* Fonksiyon tanımlanmalıdır"
   ]
  },
  {
   "cell_type": "code",
   "execution_count": 7,
   "metadata": {},
   "outputs": [
    {
     "name": "stdout",
     "output_type": "stream",
     "text": [
      "Girdiğiniz sayı listesi : [1, 2, 3]\n",
      "Listenizin son hali\t: [2, 1, 3]\n"
     ]
    }
   ],
   "source": [
    "girilen_sayılar = []\n",
    "\n",
    "n = int(input(\"Kaç adet sayı girilsin :\" ))\n",
    "\n",
    "for i in range(n):\n",
    "    girilen_sayılar.append(int(input(\"{}. sayıyı giriniz : \".format(i+1))))\n",
    "    \n",
    "print(\"Girdiğiniz sayı listesi : {}\".format(girilen_sayılar))\n",
    "\n",
    "değiştirilecek = int(input(\"Kaçıncı elemanın yerini değiştirmek istersiniz ? : 1 - {}\".format(len(girilen_sayılar))))\n",
    "\n",
    "değişecek = int(input(\"Kaçıncı elemala yer değiştirmesini istersiniz ? : 1 - {}\".format(len(girilen_sayılar))))\n",
    "    \n",
    "girilen_sayılar[değiştirilecek - 1], girilen_sayılar[değişecek - 1] = girilen_sayılar[değişecek - 1], girilen_sayılar[değiştirilecek - 1]\n",
    "\n",
    "print(\"Listenizin son hali\\t: {}\".format(girilen_sayılar))"
   ]
  }
 ],
 "metadata": {
  "interpreter": {
   "hash": "b3ba2566441a7c06988d0923437866b63cedc61552a5af99d1f4fb67d367b25f"
  },
  "kernelspec": {
   "display_name": "Python 3.8.5 64-bit ('base': conda)",
   "language": "python",
   "name": "python3"
  },
  "language_info": {
   "codemirror_mode": {
    "name": "ipython",
    "version": 3
   },
   "file_extension": ".py",
   "mimetype": "text/x-python",
   "name": "python",
   "nbconvert_exporter": "python",
   "pygments_lexer": "ipython3",
   "version": "3.8.5"
  },
  "orig_nbformat": 4
 },
 "nbformat": 4,
 "nbformat_minor": 2
}
