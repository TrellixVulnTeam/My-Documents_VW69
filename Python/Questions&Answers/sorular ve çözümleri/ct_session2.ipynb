{
 "cells": [
  {
   "cell_type": "code",
   "execution_count": 1,
   "metadata": {},
   "outputs": [
    {
     "name": "stdout",
     "output_type": "stream",
     "text": [
      "YILDIZ SAYISI = 9\n"
     ]
    }
   ],
   "source": [
    "satir_sayisi = int(input('Satir sayisini giriniz:'))\n",
    "\n",
    "yildiz_sayisi = 2 * satir_sayisi - 1\n",
    "\n",
    "print(\"YILDIZ SAYISI =\" , yildiz_sayisi )"
   ]
  },
  {
   "cell_type": "code",
   "execution_count": 2,
   "metadata": {},
   "outputs": [
    {
     "name": "stdout",
     "output_type": "stream",
     "text": [
      "Hello Osman\n",
      "you are a spring chicken\n",
      "BYE\n"
     ]
    }
   ],
   "source": [
    "name = input('What is your name?')\n",
    "print('Hello',name)\n",
    "age = int(input('How old are you?'))\n",
    "\n",
    "if age>=70:\n",
    " print('you are aged to perfection')\n",
    "else :\n",
    " print('you are a spring chicken')\n",
    " \n",
    "print('BYE')\n"
   ]
  },
  {
   "cell_type": "code",
   "execution_count": null,
   "metadata": {},
   "outputs": [],
   "source": [
    "# # haftalik calisma saati ve ücreti girilen bir kişiin haftalık maaşını hesaplayan uygulamanın psuedo kodu.\n",
    "# OUTPUT 'Haftalik Calisma saatini giriniz'\n",
    "# INPUT AND STORE calisma_saati\n",
    "# OUTPUT 'Saatlik Ucretini giriniz'\n",
    "# INPUT AND STORE saatlik_ucret\n",
    "\n",
    "# IF calisma_saati <= 40 THEN\n",
    "#  CALCULATE maas = calisma_saati x saatlik_ucret\n",
    "# ELSE\n",
    "# CALCULATE maas = ((calisma_saati - 40) x saatlik_ucret x 1.5) + (40 x saatlik_ucret)"
   ]
  },
  {
   "cell_type": "code",
   "execution_count": 3,
   "metadata": {},
   "outputs": [
    {
     "name": "stdout",
     "output_type": "stream",
     "text": [
      "1 ali\n",
      "2 ali\n",
      "3 ali\n",
      "4 ali\n",
      "5 ali\n",
      "6 ali\n",
      "7 ali\n",
      "8 ali\n",
      "9 ali\n",
      "10 ali\n",
      "11 ali\n",
      "12 ali\n",
      "13 ali\n",
      "14 ali\n",
      "15 ali\n",
      "16 ali\n",
      "17 ali\n",
      "18 ali\n",
      "19 ali\n",
      "20 ali\n",
      "21 ali\n",
      "22 ali\n",
      "23 ali\n",
      "24 ali\n",
      "25 ali\n",
      "26 ali\n",
      "27 ali\n",
      "28 ali\n",
      "29 ali\n",
      "30 ali\n",
      "31 ali\n",
      "32 ali\n",
      "33 ali\n",
      "34 ali\n",
      "35 ali\n",
      "36 ali\n",
      "37 ali\n",
      "38 ali\n",
      "39 ali\n",
      "40 ali\n",
      "41 ali\n",
      "42 ali\n",
      "43 ali\n",
      "44 ali\n",
      "45 ali\n",
      "46 ali\n",
      "47 ali\n",
      "48 ali\n",
      "49 ali\n",
      "50 ali\n",
      "51 ali\n",
      "52 ali\n",
      "53 ali\n",
      "54 ali\n",
      "55 ali\n",
      "56 ali\n",
      "57 ali\n",
      "58 ali\n",
      "59 ali\n",
      "60 ali\n",
      "61 ali\n",
      "62 ali\n",
      "63 ali\n",
      "64 ali\n",
      "65 ali\n",
      "66 ali\n",
      "67 ali\n",
      "68 ali\n",
      "69 ali\n",
      "70 ali\n",
      "71 ali\n",
      "72 ali\n",
      "73 ali\n",
      "74 ali\n",
      "75 ali\n",
      "76 ali\n",
      "77 ali\n",
      "78 ali\n",
      "79 ali\n",
      "80 ali\n",
      "81 ali\n",
      "82 ali\n",
      "83 ali\n",
      "84 ali\n",
      "85 ali\n",
      "86 ali\n",
      "87 ali\n",
      "88 ali\n",
      "89 ali\n",
      "90 ali\n",
      "91 ali\n",
      "92 ali\n",
      "93 ali\n",
      "94 ali\n",
      "95 ali\n",
      "96 ali\n",
      "97 ali\n",
      "98 ali\n",
      "99 ali\n"
     ]
    }
   ],
   "source": [
    "ad = input(\"Adinizi giriniz\")\n",
    "\n",
    "for i in range(1,100):\n",
    " print(i, ad)"
   ]
  },
  {
   "cell_type": "code",
   "execution_count": 186,
   "metadata": {},
   "outputs": [
    {
     "name": "stdout",
     "output_type": "stream",
     "text": [
      "234\n",
      "False\n"
     ]
    }
   ],
   "source": [
    "num = \"515641521242151564152124215156415212421515641521242151564152124215156415212421\"\n",
    "def summary(num):\n",
    "    sum = 0\n",
    "    for i in num:\n",
    "        sum += int(i)\n",
    "    print(sum)\n",
    "    return int(num) % sum == 0\n",
    "print(summary(num))"
   ]
  },
  {
   "cell_type": "code",
   "execution_count": 187,
   "metadata": {},
   "outputs": [
    {
     "name": "stdout",
     "output_type": "stream",
     "text": [
      "303.0\n",
      "False\n"
     ]
    }
   ],
   "source": [
    "num1 = 515641521242151564152124215156415212421515641521242151564152124215156415212421\n",
    "\n",
    "def is_harshad(num):\n",
    "    sum = 0\n",
    "    for i in range(0, len(str(num))):\n",
    "        sum += num % 10\n",
    "        num -= num % 10\n",
    "        num /= 10\n",
    "    print(sum)\n",
    "    return sum\n",
    "\n",
    "print(num1 % is_harshad(num1) == 0)\n"
   ]
  }
 ],
 "metadata": {
  "interpreter": {
   "hash": "aee8b7b246df8f9039afb4144a1f6fd8d2ca17a180786b69acc140d282b71a49"
  },
  "kernelspec": {
   "display_name": "Python 3.9.5 64-bit",
   "name": "python3"
  },
  "language_info": {
   "codemirror_mode": {
    "name": "ipython",
    "version": 3
   },
   "file_extension": ".py",
   "mimetype": "text/x-python",
   "name": "python",
   "nbconvert_exporter": "python",
   "pygments_lexer": "ipython3",
   "version": "3.8.5"
  },
  "orig_nbformat": 4
 },
 "nbformat": 4,
 "nbformat_minor": 2
}
