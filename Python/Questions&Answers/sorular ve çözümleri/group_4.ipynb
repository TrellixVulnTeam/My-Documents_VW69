{
 "cells": [
  {
   "cell_type": "markdown",
   "metadata": {
    "id": "-8zRr1qSQGCS"
   },
   "source": [
    "1- Given two arrays of strings a1 and a2 return a sorted array r in lexicographical order of the strings of a1 which are substrings of strings of a2.\n",
    "\n",
    "Example 1:\n",
    "a1 = [\"arp\", \"live\", \"strong\"]\n",
    "\n",
    "a2 = [\"lively\", \"alive\", \"harp\", \"sharp\", \"armstrong\"]\n",
    "\n",
    "returns [\"arp\", \"live\", \"strong\"]\n",
    "\n",
    "Example 2:\n",
    "a1 = [\"tarp\", \"mice\", \"bull\"]\n",
    "\n",
    "a2 = [\"lively\", \"alive\", \"harp\", \"sharp\", \"armstrong\"]\n",
    "\n",
    "returns []\n",
    "\n",
    "Notes:\n",
    "Arrays are written in \"general\" notation. See \"Your Test Cases\" for examples in your language.\n",
    "\n",
    "In Shell bash a1 and a2 are strings. The return is a string where words are separated by commas.\n",
    "\n",
    "Beware: r must be without duplicates.[bağlantı metni](https://www.codewars.com/kata/550554fd08b86f84fe000a58)"
   ]
  },
  {
   "cell_type": "code",
   "execution_count": 14,
   "metadata": {
    "id": "mXCk_4N5OThw"
   },
   "outputs": [
    {
     "name": "stdout",
     "output_type": "stream",
     "text": [
      "['arp', 'live', 'strong']\n",
      "[]\n"
     ]
    }
   ],
   "source": [
    "def in_array(list1, list2):\n",
    "    s = []\n",
    "    for i in list1:\n",
    "        for j in list2:\n",
    "            if i in j and i not in s:\n",
    "                s.append(i)\n",
    "    return sorted(s)\n",
    "\n",
    "\n",
    "a1 = [\"arp\", \"live\", \"strong\"]\n",
    "a2 = [\"lively\", \"alive\", \"harp\", \"sharp\", \"armstrong\"]\n",
    "\n",
    "b1 = [\"tarp\", \"mice\", \"bull\"]\n",
    "b2 = [\"lively\", \"alive\", \"harp\", \"sharp\", \"armstrong\"]\n",
    "\n",
    "print(in_array(a1, a2))\n",
    "print(in_array(b1, b2))\n"
   ]
  },
  {
   "cell_type": "markdown",
   "metadata": {
    "id": "qyzQHBj4QZFT"
   },
   "source": [
    "2- My friend John and I are members of the \"Fat to Fit Club (FFC)\". John is worried because each month a list with the weights of members is published and each month he is the last on the list which means he is the heaviest.\n",
    "\n",
    "I am the one who establishes the list so I told him: \"Don't worry any more, I will modify the order of the list\". It was decided to attribute a \"weight\" to numbers. The weight of a number will be from now on the sum of its digits.\n",
    "\n",
    "For example 99 will have \"weight\" 18, 100 will have \"weight\" 1 so in the list 100 will come before 99.\n",
    "\n",
    "Given a string with the weights of FFC members in normal order can you give this string ordered by \"weights\" of these numbers?\n",
    "\n",
    "Example:\n",
    "\"56 65 74 100 99 68 86 180 90\" ordered by numbers weights becomes: \n",
    "\n",
    "\"100 180 90 56 65 74 68 86 99\"\n",
    "When two numbers have the same \"weight\", let us class them as if they were strings (alphabetical ordering) and not numbers:\n",
    "\n",
    "180 is before 90 since, having the same \"weight\" (9), it comes before as a string.\n",
    "\n",
    "All numbers in the list are positive numbers and the list can be empty.\n",
    "\n",
    "Notes\n",
    "it may happen that the input string have leading, trailing whitespaces and more than a unique whitespace between two consecutive numbers\n",
    "For C: The result is freed.[bağlantı metni](https://www.codewars.com/kata/weight-for-weight/python)"
   ]
  },
  {
   "cell_type": "code",
   "execution_count": 15,
   "metadata": {
    "id": "K5U4bakFRoIw"
   },
   "outputs": [
    {
     "name": "stdout",
     "output_type": "stream",
     "text": [
      "100 180 90 56 65 74 68 86 99\n"
     ]
    }
   ],
   "source": [
    "def ağırlıklı_sırala(listem):\n",
    "    listem = listem.split()\n",
    "    sıralı_liste = []\n",
    "    toplam = 0\n",
    "    for i in listem:\n",
    "        for j in i:\n",
    "            toplam += int(j)\n",
    "        sıralı_liste.append(toplam)\n",
    "        toplam = 0\n",
    "    return \" \".join([values for keys, values in sorted(zip(sıralı_liste, listem))])\n",
    "\n",
    "\n",
    "print(ağırlıklı_sırala(\"56 65 74 100 99 68 86 180 90\"))\n"
   ]
  },
  {
   "cell_type": "markdown",
   "metadata": {
    "id": "79CGrQiBRpXK"
   },
   "source": [
    "3- The goal of this exercise is to convert a string to a new string where each character in the new string is \"(\" if that character appears only once in the original string, or \")\" if that character appears more than once in the original string. Ignore capitalization when determining if a character is a duplicate.\n",
    "\n",
    "Examples\n",
    "\"din\"      =>  \"(((\"\n",
    "\"recede\"   =>  \"()()()\"\n",
    "\"Success\"  =>  \")())())\"\n",
    "\"(( @\"     =>  \"))((\" \n",
    "Notes\n",
    "\n",
    "Assertion messages may be unclear about what they display in some languages. If you read \"...It Should encode XXX\", the \"XXX\" is the expected result, not the input![bağlantı metni](https://www.codewars.com/kata/54b42f9314d9229fd6000d9c)"
   ]
  },
  {
   "cell_type": "code",
   "execution_count": 16,
   "metadata": {
    "id": "AUsuYPqrSZCd"
   },
   "outputs": [
    {
     "name": "stdout",
     "output_type": "stream",
     "text": [
      "()()()\n"
     ]
    }
   ],
   "source": [
    "def duplicate_encode(text):\n",
    "    text = text.lower()\n",
    "    result = \"\"\n",
    "    for i in text:\n",
    "        if text.count(i) == 1:\n",
    "            result += \"(\"\n",
    "        else:\n",
    "            result += \")\"\n",
    "    return result\n",
    "\n",
    "\n",
    "print(duplicate_encode(\"recede\"))\n"
   ]
  },
  {
   "cell_type": "code",
   "execution_count": 18,
   "metadata": {},
   "outputs": [
    {
     "name": "stdout",
     "output_type": "stream",
     "text": [
      "()()()\n"
     ]
    }
   ],
   "source": [
    "def duplicate_it(text):\n",
    "    text = text.lower()\n",
    "    return \"\".join(['(' if text.count(i) == 1 else ')' for i in text])\n",
    "\n",
    "\n",
    "print(duplicate_it(\"recede\"))\n"
   ]
  },
  {
   "cell_type": "markdown",
   "metadata": {
    "id": "mYCtofo3SZmG"
   },
   "source": [
    "4- Write a function, which takes a non-negative integer (seconds) as input and returns the time in a human-readable format (HH:MM:SS)\n",
    "\n",
    "HH = hours, padded to 2 digits, range: 00 - 99\n",
    "MM = minutes, padded to 2 digits, range: 00 - 59\n",
    "SS = seconds, padded to 2 digits, range: 00 - 59\n",
    "The maximum time never exceeds 359999 (99:59:59)\n",
    "[bağlantı metni](https://www.codewars.com/kata/52685f7382004e774f0001f7)"
   ]
  },
  {
   "cell_type": "code",
   "execution_count": 1,
   "metadata": {
    "id": "PxD2oigPS98C"
   },
   "outputs": [
    {
     "name": "stdout",
     "output_type": "stream",
     "text": [
      "01:23:20\n"
     ]
    }
   ],
   "source": [
    "def make_readable(s):\n",
    "    hh = (s // 60) // 60\n",
    "    mm = (s // 60) % 60\n",
    "    ss = s % 60\n",
    "    return f'{hh:02d}:{mm:02d}:{ss:02d}'\n",
    "\n",
    "\n",
    "print(make_readable(5000))\n"
   ]
  },
  {
   "cell_type": "markdown",
   "metadata": {
    "id": "WcsK7zS1S-if"
   },
   "source": [
    "5- Complete the function scramble(str1, str2) that returns true if a portion of str1 characters can be rearranged to match str2, otherwise returns false.\n",
    "\n",
    "Notes:\n",
    "\n",
    "Only lower case letters will be used (a-z). No punctuation or digits will be included.\n",
    "Performance needs to be considered\n",
    "Input strings s1 and s2 are null terminated.\n",
    "Examples\n",
    "scramble('rkqodlw', 'world') ==> True\n",
    "scramble('cedewaraaossoqqyt', 'codewars') ==> True\n",
    "scramble('katas', 'steak') ==> False [bağlantı metni](https://www.codewars.com/kata/55c04b4cc56a697bb0000048)"
   ]
  },
  {
   "cell_type": "code",
   "execution_count": 3,
   "metadata": {
    "id": "Sjh3zla7Tae3"
   },
   "outputs": [
    {
     "name": "stdout",
     "output_type": "stream",
     "text": [
      "False\n",
      "True\n",
      "True\n",
      "True\n",
      "False\n"
     ]
    }
   ],
   "source": [
    "def scramble(str1, str2):\n",
    "    result = True\n",
    "    for i in set(str2):\n",
    "        if str2.count(i) > str1.count(i):\n",
    "            result = False\n",
    "            break\n",
    "    return result\n",
    "\n",
    "\n",
    "print(scramble('rkqodlww', 'wwo000000000000000000000000000000000000000000000000000000000rld'))\n",
    "print(scramble('rkqodlw', 'world'))\n",
    "\n",
    "print(scramble('rkqodlw', 'world'))\n",
    "print(scramble('cedewaraaossoqqyt', 'codewars'))\n",
    "print(scramble('katas', 'steak'))\n"
   ]
  },
  {
   "cell_type": "markdown",
   "metadata": {
    "id": "1Dx97BY2T0yj"
   },
   "source": [
    "6- Move the first letter of each word to the end of it, then add \"ay\" to the end of the word. Leave punctuation marks untouched.\n",
    "\n",
    "Examples\n",
    "pig_it('Pig latin is cool') # igPay atinlay siay oolcay\n",
    "pig_it('Hello world !')     # elloHay orldway ! [bağlantı metni](https://www.codewars.com/kata/520b9d2ad5c005041100000f)"
   ]
  },
  {
   "cell_type": "code",
   "execution_count": 5,
   "metadata": {
    "id": "nK8ttI7FUPq2"
   },
   "outputs": [
    {
     "name": "stdout",
     "output_type": "stream",
     "text": [
      "igPay atinlay siay oolcay\n"
     ]
    }
   ],
   "source": [
    "from string import punctuation, digits\n",
    "\n",
    "\n",
    "def change(s):\n",
    "    s = s.split()\n",
    "    y = ''\n",
    "    for i in s:\n",
    "        if i in punctuation:\n",
    "            y += i + ' '\n",
    "        else:\n",
    "            y += i[1:] + i[0] + 'ay' + ' '\n",
    "    return y.strip()\n",
    "\n",
    "\n",
    "print(change('Pig latin is cool'))\n"
   ]
  },
  {
   "cell_type": "markdown",
   "metadata": {
    "id": "wAn-rjkyUXdR"
   },
   "source": [
    "7- What is an anagram? Well, two words are anagrams of each other if they both contain the same letters. For example:\n",
    "\n",
    "'abba' & 'baab' == true\n",
    "\n",
    "'abba' & 'bbaa' == true\n",
    "\n",
    "'abba' & 'abbba' == false\n",
    "\n",
    "'abba' & 'abca' == false\n",
    "Write a function that will find all the anagrams of a word from a list. You will be given two inputs a word and an array with words. You should return an array of all the anagrams or an empty array if there are none. For example:\n",
    "\n",
    "anagrams('abba', ['aabb', 'abcd', 'bbaa', 'dada']) => ['aabb', 'bbaa']\n",
    "\n",
    "anagrams('racer', ['crazer', 'carer', 'racar', 'caers', 'racer']) => ['carer', 'racer']\n",
    "\n",
    "anagrams('laser', ['lazing', 'lazy',  'lacer']) => [] [bağlantı metni](https://www.codewars.com/kata/523a86aa4230ebb5420001e1)"
   ]
  },
  {
   "cell_type": "code",
   "execution_count": 8,
   "metadata": {
    "id": "YS0p24roUgMq"
   },
   "outputs": [
    {
     "name": "stdout",
     "output_type": "stream",
     "text": [
      "['aabb', 'bbaa']\n",
      "['carer', 'racer']\n",
      "[]\n"
     ]
    }
   ],
   "source": [
    "def anagrams(text, listem):\n",
    "    result = []\n",
    "    for i in listem:\n",
    "        if sorted(text) == sorted(i):\n",
    "            result.append(i)\n",
    "    return result\n",
    "\n",
    "    # return [i for i in listem if sorted(text == sorted(i))]\n",
    "\n",
    "\n",
    "print(anagrams('abba', ['aabb', 'abcd', 'bbaa', 'dada']))\n",
    "print(anagrams('racer', ['crazer', 'carer', 'racar', 'caers', 'racer']))\n",
    "print(anagrams('laser', ['lazing', 'lazy',  'lacer']))\n"
   ]
  }
 ],
 "metadata": {
  "colab": {
   "name": "group_4.ipynb",
   "provenance": []
  },
  "kernelspec": {
   "display_name": "Python 3",
   "language": "python",
   "name": "python3"
  },
  "language_info": {
   "codemirror_mode": {
    "name": "ipython",
    "version": 3
   },
   "file_extension": ".py",
   "mimetype": "text/x-python",
   "name": "python",
   "nbconvert_exporter": "python",
   "pygments_lexer": "ipython3",
   "version": "3.8.5"
  }
 },
 "nbformat": 4,
 "nbformat_minor": 1
}
