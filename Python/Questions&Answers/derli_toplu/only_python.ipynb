{
 "cells": [
  {
   "cell_type": "markdown",
   "metadata": {},
   "source": [
    "### October, 25 / only_python\n",
    "\n",
    "Kullanıcıdan iki tane sayı isteyin ve bu sayıların değerlerini birbirleriyle değiştirin."
   ]
  },
  {
   "cell_type": "code",
   "execution_count": null,
   "metadata": {},
   "outputs": [],
   "source": []
  },
  {
   "cell_type": "markdown",
   "metadata": {},
   "source": [
    "### October, 27 / only_python (Loves me Sorusu)\n",
    "\n",
    "\"Loves me, loves me not\" is a traditional game in which a person plucks off all the petals of a flower one by one,\n",
    "\n",
    "saying the phrase \"Loves me\" and \"Loves me not\" when determining whether the one that they love, loves them back.\n",
    "\n",
    "Given a number of petals, return a string which repeats the phrases \"Loves me\" and \"Loves me not\" for every alternating petal,\n",
    "\n",
    "and return the last phrase in all caps. Remember to put a comma and space between phrases."
   ]
  },
  {
   "cell_type": "code",
   "execution_count": null,
   "metadata": {},
   "outputs": [],
   "source": []
  },
  {
   "cell_type": "markdown",
   "metadata": {},
   "source": [
    "### October, 28 / only_python \n",
    "\n",
    "Find the most frequent number and how many times repeated ?\n",
    "\n",
    "Example:\n",
    "\n",
    "numbers = [1, 3, 7, 4, 3, 0, 3, 6, 3]\n",
    "\n",
    "the most frequent number is 3 and it was 4 times repeated"
   ]
  },
  {
   "cell_type": "code",
   "execution_count": null,
   "metadata": {},
   "outputs": [],
   "source": []
  },
  {
   "cell_type": "markdown",
   "metadata": {},
   "source": [
    "### October, 31 / only_python \n",
    "\n",
    "Write a Python program to get a string from a given string where all occurrences of its first char have been changed to '$',\n",
    "\n",
    "except the first char itself\n",
    "\n",
    "Sample String : 'restart\n",
    "\n",
    "Expected Result : 'resta$t"
   ]
  },
  {
   "cell_type": "code",
   "execution_count": null,
   "metadata": {},
   "outputs": [],
   "source": []
  },
  {
   "cell_type": "markdown",
   "metadata": {},
   "source": [
    "### November, 8 / only_python\n",
    "\n",
    "mail = \"mailto: Clarusway admission@clarusway.com, 6 Haz 2021 Paz, 21:08 tarihinde şunu yazdı:\"\n",
    "\n",
    "Write python code that outputs \"clarusway.com\" from the string in the \"mail\" variable.\n",
    "\n",
    "Expected Output: clarusway.com"
   ]
  },
  {
   "cell_type": "code",
   "execution_count": null,
   "metadata": {},
   "outputs": [],
   "source": []
  },
  {
   "cell_type": "markdown",
   "metadata": {},
   "source": [
    "### November, 9 - 1 / only_python\n",
    "\n",
    "Write a Python program to sum of three given integers. However, if two values are equal sum will be zero."
   ]
  },
  {
   "cell_type": "code",
   "execution_count": null,
   "metadata": {},
   "outputs": [],
   "source": []
  },
  {
   "cell_type": "markdown",
   "metadata": {},
   "source": [
    "### November, 9 - 2 / only_python\n",
    "\n",
    "Write a Python program to get a string made of the first 2 and the last 2 chars from a given a string.\n",
    "\n",
    "If the string length is less than 2, return instead of the empty string"
   ]
  },
  {
   "cell_type": "code",
   "execution_count": null,
   "metadata": {},
   "outputs": [],
   "source": []
  },
  {
   "cell_type": "markdown",
   "metadata": {},
   "source": [
    "# November, 10 / only_python (If soruları)\n",
    "\n",
    "### Problem 1\n",
    "\n",
    "Kullanıcıdan alınan boy ve kilo değerlerine göre beden kitle indeksini hesaplayın ve şu kurallara göre ekrana şu yazıları yazdırın.\n",
    "\n",
    "     Beden Kitle İndeksi: Kilo / Boy(m) *  Boy(m)\n",
    "    \n",
    "     BKİ 18.5'un altındaysa -------> Zayıf\n",
    "     \n",
    "     BKİ 18.5 ile 25 arasındaysa ------> Normal\n",
    "     \n",
    "     BKİ 25 ile 30 arasındaysa --------> Fazla Kilolu\n",
    "     \n",
    "     BKİ 30'un üstündeyse -------------> Obez\n",
    "     \n"
   ]
  },
  {
   "cell_type": "code",
   "execution_count": null,
   "metadata": {},
   "outputs": [],
   "source": []
  },
  {
   "cell_type": "markdown",
   "metadata": {},
   "source": [
    "### Problem 2\n",
    "\n",
    "Kullanıcıdan 3 tane sayı alın ve en büyük sayıyı ekrana yazdırın."
   ]
  },
  {
   "cell_type": "code",
   "execution_count": null,
   "metadata": {},
   "outputs": [],
   "source": []
  },
  {
   "cell_type": "markdown",
   "metadata": {},
   "source": [
    "### Problem 3\n",
    "\n",
    "Kullanıcının girdiği **vize1,vize2,final notlarına** notlarına göre harf notunu hesaplayın.\n",
    "\n",
    "        Vize1 toplam notun %30'una etki edecek.\n",
    "\n",
    "        Vize2 toplam notun %30'una etki edecek.\n",
    "\n",
    "        Final toplam notun %40'ına etki edecek.\n",
    "\n",
    "\n",
    "        Toplam Not >=  90 -----> AA\n",
    "\n",
    "        Toplam Not >=  85 -----> BA\n",
    "\n",
    "        Toplam Not >=  80 -----> BB\n",
    "\n",
    "        Toplam Not >=  75 -----> CB\n",
    "\n",
    "        Toplam Not >=  70 -----> CC\n",
    "\n",
    "        Toplam Not >=  65 -----> DC\n",
    "\n",
    "        Toplam Not >=  60 -----> DD\n",
    "\n",
    "        Toplam Not >=  55 -----> FD\n",
    "\n",
    "        Toplam Not <  55 -----> FF"
   ]
  },
  {
   "cell_type": "code",
   "execution_count": null,
   "metadata": {},
   "outputs": [],
   "source": []
  },
  {
   "cell_type": "markdown",
   "metadata": {},
   "source": [
    "### Problem 4\n",
    "\n",
    "Şimdi de geometrik şekil hesaplama işlemi yapalım. İlk olarak kullanıcıdan üçgenin mi dörtgenin mi tipini bulmak istediğini sorun. \n",
    "\n",
    "Eğer kullanıcı \"Dörtgen\" cevabını verirse ,  4 tane kenar isteyip bu dörtgenin kare mi , dikdörtgen mi yoksa sıradan bir dörtgen mi olduğunu bulmaya çalışın.\n",
    "\n",
    "Eğer kullanıcı \"Üçgen\" cevabını verirse ,  3 tane kenar isteyip bu üçgenin ikizkenar mı , eşkenar mı yoksa sıradan bir üçgen mi olduğunu bulmaya çalışın.\n",
    "\n",
    "Eğer verilen kenarlar bir üçgen belirtmiyorsa, ekrana \"Üçgen belirtmiyor\" şeklinde bir yazı yazın.\n",
    "\n",
    "*Üçgen belirtme şartını bilmiyorsunuz internetten bakabilirsiniz.*\n",
    "\n",
    "*Ayrıca , bu problemde mutlak değer bulmaya ihtiyacınız olacak. Bunun için, Pythonda hazır bir fonksiyon olan abs() fonksiyonunu kullanabilirsiniz. Kullanımı şu şekildedir ;*"
   ]
  },
  {
   "cell_type": "code",
   "execution_count": null,
   "metadata": {},
   "outputs": [],
   "source": []
  },
  {
   "cell_type": "markdown",
   "metadata": {},
   "source": [
    "### November, 11 - 1 / only_python\n",
    "\n",
    "A number is said to be Harshad if it's exactly divisible by the sum of its digits.\n",
    "\n",
    "Create a function that determines whether a number is a Harshad or not.\n",
    "\n",
    "is_harshad(75) ➞ False\n",
    "7 + 5 = 12\n",
    "75 is not exactly divisible by 12\n",
    "\n",
    "is_harshad(171) ➞ True\n",
    "1 + 7 + 1 = 9\n",
    "9 exactly divides 171\n",
    "\n",
    "is_harshad(481) ➞ True\n",
    "\n",
    "is_harshad(89) ➞ False\n",
    "\n",
    "is_harshad(516) ➞ True\n",
    "\n",
    "is_harshad(200) ➞ True"
   ]
  },
  {
   "cell_type": "code",
   "execution_count": null,
   "metadata": {},
   "outputs": [],
   "source": []
  },
  {
   "cell_type": "markdown",
   "metadata": {},
   "source": [
    "### November, 11 - 2 / only_python (Faktoriyellerin çarpımı Sorusu)\n",
    "\n",
    "Create a function that takes an integer n and returns the factorial of factorials. \n",
    "\n",
    "See below examples for a better understanding:\n",
    "\n",
    "fact_of_fact(4) ➞ 288\n",
    "4! * 3! * 2! * 1! = 288\n",
    "\n",
    "fact_of_fact(5) ➞ 34560\n",
    "\n",
    "fact_of_fact(6) ➞ 24883200"
   ]
  },
  {
   "cell_type": "code",
   "execution_count": null,
   "metadata": {},
   "outputs": [],
   "source": []
  },
  {
   "cell_type": "markdown",
   "metadata": {},
   "source": [
    "### November, 11 - 3 / only_python\n",
    "\n",
    "Given a list of words in the singular form, return a set of those words in the plural form if they appear more than once in the list.\n",
    "\n",
    "pluralize([\"cow\", \"pig\", \"cow\", \"cow\"]) ➞ { \"cows\", \"pig\" }\n",
    "\n",
    "pluralize([\"table\", \"table\", \"table\"]) ➞ { \"tables\" }\n",
    "\n",
    "pluralize([\"chair\", \"pencil\", \"arm\"]) ➞ { \"chair\", \"pencil\", \"arm\" }"
   ]
  },
  {
   "cell_type": "code",
   "execution_count": null,
   "metadata": {},
   "outputs": [],
   "source": []
  },
  {
   "cell_type": "markdown",
   "metadata": {},
   "source": [
    "### November, 11 - 4 / only_python\n",
    "\n",
    "Create a function that takes a number num and returns each place value in the number.\n",
    "\n",
    "num_split(39) ➞ [30, 9]\n",
    "\n",
    "num_split(-434) ➞ [-400, -30, -4]\n",
    "\n",
    "num_split(100) ➞ [100, 0, 0]"
   ]
  },
  {
   "cell_type": "code",
   "execution_count": null,
   "metadata": {},
   "outputs": [],
   "source": []
  },
  {
   "cell_type": "markdown",
   "metadata": {},
   "source": [
    "### November, 11 - 5 / only_python\n",
    "\n",
    "Verilen bir kuruluşu oluşturan kelimelerin baş harflerini kullanarak kısaltma oluşturan bir fonksiyon yazınız."
   ]
  },
  {
   "cell_type": "code",
   "execution_count": null,
   "metadata": {},
   "outputs": [],
   "source": []
  },
  {
   "cell_type": "markdown",
   "metadata": {},
   "source": [
    "### November, 13 - 1 / only_python\n",
    "\n",
    "Question 1\n",
    "\n",
    "It takes 21 seconds to wash your hands and help prevent the spread of COVID-19.\n",
    "\n",
    "Create a function that takes the number of times a person washes their hands per day N and the number of months \n",
    "\n",
    "they follow this routine nM and calculates the duration in minutes and seconds that person spends washing their hands.\n",
    "\n",
    "Examples\n",
    "(8, 7) ➞ \"588 minutes and 0 seconds\"\n",
    "(0, 0) ➞ \"0 minutes and 0 seconds\"\n",
    "(7, 9) ➞ \"661 minutes and 30 seconds\"\n",
    "\n",
    "Notes\n",
    "Consider a month has 30 days.\n",
    "Wash your hands."
   ]
  },
  {
   "cell_type": "code",
   "execution_count": null,
   "metadata": {},
   "outputs": [],
   "source": []
  },
  {
   "cell_type": "markdown",
   "metadata": {},
   "source": [
    "### November, 13 - 2 / only_python\n",
    "\n",
    "Question 2\n",
    "\n",
    "Write a function that finds the largest even number in a list. Return -1 if not found.\n",
    "\n",
    "The use of built-in functions max() and sorted() are prohibited.\n",
    "\n",
    "Examples\n",
    "[3, 7, 2, 1, 7, 9, 10, 13] ➞ 10\n",
    "[1, 3, 5, 7] ➞ -1\n",
    "[0, 19, 18973623] ➞ 0\n",
    "\n",
    "Notes\n",
    "Consider using the modulo operator %"
   ]
  },
  {
   "cell_type": "code",
   "execution_count": null,
   "metadata": {},
   "outputs": [],
   "source": []
  },
  {
   "cell_type": "markdown",
   "metadata": {},
   "source": [
    "### November, 13 - 3 / only_python\n",
    "\n",
    "Question 3\n",
    "\n",
    "Create a function that determines whether a number is Oddish or Evenish.\n",
    "\n",
    "A number is Oddish if the sum of all of its digits is odd, and a number is Evenish\n",
    "\n",
    "if the sum of all of its digits is even. If a number is Oddish, return \"Oddish\".\n",
    "\n",
    "Otherwise, return \"Evenish\".\n",
    "\n",
    "For example, (121) should return \"Evenish\", since 1 + 2 + 1 = 4. (41) should return \"Oddish\", since 4 + 1 = 5.\n",
    "\n",
    "Examples\n",
    "(43) ➞ \"Oddish\"\n",
    "4 + 3 = 7\n",
    "7 % 2 = 1\n",
    "\n",
    "(373) ➞ \"Oddish\"\n",
    "3 + 7 + 3 = 13\n",
    "13 % 2 = 1\n",
    "\n",
    "(4433) ➞ \"Evenish\"\n",
    "4 + 4 + 3 + 3 = 14\n",
    "14 % 2 = 0"
   ]
  },
  {
   "cell_type": "code",
   "execution_count": null,
   "metadata": {},
   "outputs": [],
   "source": []
  },
  {
   "cell_type": "markdown",
   "metadata": {},
   "source": [
    "### November, 13 - 4 / only_python\n",
    "\n",
    "Question 4\n",
    "\n",
    "Program to print pyramid a using numbers. (User enter the numbers of rows)"
   ]
  },
  {
   "cell_type": "code",
   "execution_count": null,
   "metadata": {},
   "outputs": [],
   "source": [
    "\"\"\"\n",
    "Example output :\n",
    "1\n",
    "2 2\n",
    "3 3 3\n",
    "4 4 4 4\n",
    "5 5 5 5 5\n",
    "\"\"\""
   ]
  },
  {
   "cell_type": "code",
   "execution_count": null,
   "metadata": {},
   "outputs": [],
   "source": []
  },
  {
   "cell_type": "markdown",
   "metadata": {},
   "source": [
    "### November, 13 - 5 / only_python\n",
    "\n",
    "Question 5\n",
    "\n",
    "Fruit salads are served best when the fruits are sliced and diced into small chunks!\n",
    "\n",
    "For this challenge, slice each fruit in half and sort the chunks alphabetically.\n",
    "\n",
    "This recipe tastes best when the chunks are joined together to make a string.\n",
    "\n",
    "Worked Example\n",
    "[\"apple\", \"pear\", \"grapes\"] ➞ \"apargrapepesple\"\n",
    "\n",
    "Chunks: [\"ap\", \"ple\", \"pe\", \"ar\", \"gra\", \"pes\"]\n",
    "\n",
    "Sorted chunks: [\"ap\", \"ar\", \"gra\", \"pe\", \"pes\", \"ple\"]\n",
    "\n",
    "Final string: \"apargrapepesple\"\n",
    "\n",
    "Examples\n",
    "[\"apple\", \"pear\", \"grapes\"] ➞ \"apargrapepesple\"\n",
    "\n",
    "[\"raspberries\", \"mango\"] ➞ \"erriesmangoraspb\"\n",
    "\n",
    "[\"banana\"] ➞ \"anaban\"\n",
    "\n",
    "Notes\n",
    "If a fruit has an odd number of letters, make the right side larger than the left.\n",
    "\n",
    "For example: \"apple\" will be sliced into \"ap\" and \"ple\".\n",
    "\n",
    "All fruits will be given in lowercase."
   ]
  },
  {
   "cell_type": "code",
   "execution_count": null,
   "metadata": {},
   "outputs": [],
   "source": []
  },
  {
   "cell_type": "markdown",
   "metadata": {},
   "source": [
    "### November, 13 - 6 / only_python\n",
    "\n",
    "Question 6\n",
    "\n",
    "Given a positive integer N, The task is to write a Python program to check if the number is prime or not.\n",
    "\n",
    "Definition:\n",
    "\n",
    "A prime number is a natural number greater than 1 that has no positive divisors other than 1 and itself.\n",
    "\n",
    "The first few prime numbers are {2, 3, 5, 7, 11, ….}."
   ]
  },
  {
   "cell_type": "code",
   "execution_count": null,
   "metadata": {},
   "outputs": [],
   "source": []
  },
  {
   "cell_type": "markdown",
   "metadata": {},
   "source": [
    "### November, 13 - 7 / only_python\n",
    "\n",
    "Question 7\n",
    "\n",
    "Create a function that takes a word and extends all vowels by a number num.\n",
    "\n",
    "Examples\n",
    "\n",
    "\"Hello\", 5 ➞ \"Heeeeeelloooooo\"\n",
    "\n",
    "\"Edabit\", 3 ➞ \"EEEEdaaaabiiiit\"\n",
    "\n",
    "\"Extend\", 0 ➞ \"Extend\""
   ]
  },
  {
   "cell_type": "code",
   "execution_count": null,
   "metadata": {},
   "outputs": [],
   "source": []
  },
  {
   "cell_type": "markdown",
   "metadata": {},
   "source": [
    "### November, 15 - 1 / only_python (Edabit - Encode Morse)\n",
    "\n",
    "Create a function that takes a string as an argument and returns the Morse code equivalent.\n",
    "\n",
    "encode_morse(\"EDABBIT CHALLENGE\") ➞ \". -.. .- -... -... .. -   -.-. .... .- .-.. .-.. . -. --. .\"\n",
    "\n",
    "encode_morse(\"HELP ME !\") ➞ \".... . .-.. .--.   -- .   -.-.--\"\n",
    "\n",
    "This dictionary can be used for coding:\n",
    "\n",
    "char_to_dots = {\n",
    "  'A': '.-', 'B': '-...', 'C': '-.-.', 'D': '-..', 'E': '.', 'F': '..-.',\n",
    "  'G': '--.', 'H': '....', 'I': '..', 'J': '.---', 'K': '-.-', 'L': '.-..',\n",
    "  'M': '--', 'N': '-.', 'O': '---', 'P': '.--.', 'Q': '--.-', 'R': '.-.',\n",
    "  'S': '...', 'T': '-', 'U': '..-', 'V': '...-', 'W': '.--', 'X': '-..-',\n",
    "  'Y': '-.--', 'Z': '--..', ' ': ' ', '0': '-----',\n",
    "  '1': '.----', '2': '..---', '3': '...--', '4': '....-', '5': '.....',\n",
    "  '6': '-....', '7': '--...', '8': '---..', '9': '----.',\n",
    "  '&': '.-...', \"'\": '.----.', '@': '.--.-.', ')': '-.--.-', '(': '-.--.',\n",
    "  ':': '---...', ',': '--..--', '=': '-...-', '!': '-.-.--', '.': '.-.-.-',\n",
    "  '-': '-....-', '+': '.-.-.', '\"': '.-..-.', '?': '..--..', '/': '-..-.'\n",
    "}\n",
    "\n",
    "Notes :\n",
    "* Ouput should be International Morse Code, and use the standard conventions for symbols not defined inside the ITU recommendation (see Resources).\n",
    "\n",
    "* Input value can be lower or upper case.\n",
    "\n",
    "* Input string can have digits.\n",
    "\n",
    "* Input string can have some special characters (e.g. comma, colon, apostrophe, period, question mark, exclamation mark).\n",
    "\n",
    "* One space \" \" is expected after each character, except the last one."
   ]
  },
  {
   "cell_type": "code",
   "execution_count": null,
   "metadata": {},
   "outputs": [],
   "source": []
  },
  {
   "cell_type": "markdown",
   "metadata": {},
   "source": [
    "### November, 15 - 2 / only_python (Edabit - Paint the Walls)\n",
    "\n",
    "Given a predetermined rate from a dictionary, write the function that will return\n",
    "\n",
    "the time it takes for a certain amount of people to paint a certain amount of walls.\n",
    "\n",
    "The \"rate\" dictionary shows how many minutes it takes \"people\" people to paint \"walls\" walls.\n",
    "\n",
    "At that same rate, how long should it take based on the new variables. Return the minutes as an integer. No rounding is necessary.\n",
    "\n",
    "Example:\n",
    "\n",
    "It takes 22 minutes for 10 people to paint 10 walls.\n",
    "How many minutes does it take 14 people to paint 14 walls?\n",
    "\n",
    "rate = {\n",
    "  \"people\": 10,\n",
    "  \"walls\": 10,\n",
    "  \"minutes\": 22\n",
    "}\n",
    "\n",
    "time(rate, people, walls) ➞ 22"
   ]
  },
  {
   "cell_type": "code",
   "execution_count": null,
   "metadata": {},
   "outputs": [],
   "source": []
  },
  {
   "cell_type": "markdown",
   "metadata": {},
   "source": [
    "### November, 20 / only_python\n",
    "\n",
    "Kullanıcıdan alınan bir numaranın geçerli bir TC kimlik numarası olup olmadığını kontrol eden python kodunu yazalım."
   ]
  },
  {
   "cell_type": "code",
   "execution_count": null,
   "metadata": {},
   "outputs": [],
   "source": []
  },
  {
   "cell_type": "markdown",
   "metadata": {},
   "source": [
    "### November, 21 - 1 / only_python\n",
    "\n",
    "ÖDEV -1\n",
    "\n",
    "1. Task : Let's say you left a message before that prints a password you need. To see the password you left, you need to enter your name and the program should recognize you.Write a program that\n",
    "\n",
    "2. Takes the first name from the user and compares it to yours,\n",
    "\n",
    "3. Then if the name the user entered is the same as yours, print out such as : \"Hello, Joseph! The password is : @12\",\n",
    "\n",
    "4. If the name the user entered is not the same as yours, print out such as : \"Hello, Amina! See you later.\""
   ]
  },
  {
   "cell_type": "code",
   "execution_count": null,
   "metadata": {},
   "outputs": [],
   "source": []
  },
  {
   "cell_type": "markdown",
   "metadata": {},
   "source": [
    "### November, 21 - 2 / only_python (Armstrong Number Sorusu)\n",
    "\n",
    "ÖDEV - 2\n",
    "\n",
    "Task:\n",
    "Find out if a given number is an \"Armstrong Number\".\n",
    "\n",
    "* An n-digit number that is the sum of the nth powers of its digits is called an n-Armstrong number. Examples :\n",
    "\n",
    "1. 371 = 33 + 73 + 13;\n",
    "2. 9474 = 94 + 44 + 74 + 44;\n",
    "3. 93084 = 95 + 35 + 05 + 85 + 45.\n",
    "\n",
    "* Write a Python program that;\n",
    "\n",
    "1. takes a positive integer number from the user,\n",
    "2. checks the entered number if it is Armstrong,\n",
    "3. consider the negative, float and any entries other than numeric values then display a warning message to the user."
   ]
  },
  {
   "cell_type": "code",
   "execution_count": null,
   "metadata": {},
   "outputs": [],
   "source": []
  },
  {
   "cell_type": "markdown",
   "metadata": {},
   "source": [
    "### November, 21 - 3 / only_python (isPrime Sorusu)\n",
    "\n",
    "ÖDEV - 3\n",
    "\n",
    "* Task : Write a program that takes a number from the user and prints the result to check if it is a prime number.\n",
    "The examples of the desired output are as follows :\n",
    "\n",
    "input →  19 ⇉ output : 19 is a prime number\n",
    "\n",
    "input →  10 ⇉ output : 10 is not a prime number\n",
    "\n",
    "Note that : This question is famous on the web, so to get more benefit from this assignment, try to complete this task on your own. "
   ]
  },
  {
   "cell_type": "code",
   "execution_count": null,
   "metadata": {},
   "outputs": [],
   "source": []
  },
  {
   "cell_type": "markdown",
   "metadata": {},
   "source": [
    "### November, 26 - 1 / only_python\n",
    "\n",
    "Exercise-5\n",
    "\n",
    "Create a function that retrieves every number that is strictly larger than every number that follows it.\n",
    "\n",
    "Examples\n",
    "\n",
    "[3, 13, 11, 2, 1, 9, 5] ➞ [13, 11, 9, 5]\n",
    "\n",
    "13 is larger than all numbers to its right, etc.\n",
    "\n",
    "[5, 5, 5, 5, 5, 5] ➞ [5]\n",
    "\n",
    "Must be strictly larger.\n",
    "\n",
    "Always include the last number.\n",
    "\n",
    "[5, 9, 8, 7] ➞ [9, 8, 7]\n",
    "\n",
    "Notes\n",
    "\n",
    "The last number in an array is trivially strictly larger than all numbers that follow it (no numbers follow it)."
   ]
  },
  {
   "cell_type": "code",
   "execution_count": null,
   "metadata": {},
   "outputs": [],
   "source": []
  },
  {
   "cell_type": "markdown",
   "metadata": {},
   "source": [
    "### November, 26 - 2 / only_python\n",
    "\n",
    "Exercise -8\n",
    "\n",
    "Nearest Vowel\n",
    "\n",
    "Given a letter, created a function which returns the nearest vowel to the letter.\n",
    "\n",
    "If two vowels are equidistant to the given letter, return the earlier vowel.\n",
    "\n",
    "Examples\n",
    "\n",
    "nearestVowel(\"b\") ➞ \"a\"\n",
    "\n",
    "nearestVowel(\"s\") ➞ \"u\"\n",
    "\n",
    "nearestVowel(\"c\") ➞ \"a\"\n",
    "\n",
    "nearestVowel(\"i\") ➞ \"i\"\n",
    "\n",
    "Notes\n",
    "\n",
    "All letters will be given in lowercase.\n",
    "\n",
    "There will be no alphabet wrapping involved, meaning the closest vowel to \"z\" should return \"u\", not \"a\"."
   ]
  },
  {
   "cell_type": "code",
   "execution_count": null,
   "metadata": {},
   "outputs": [],
   "source": []
  },
  {
   "cell_type": "markdown",
   "metadata": {},
   "source": [
    "### November, 28 / only_python\n",
    "\n",
    "2520 is the smallest number that can be divided by each of the numbers from 1 to 10 without any remainder.\n",
    "\n",
    "What is the smallest positive number that is evenly divisible by all of the numbers from 1 to 20?"
   ]
  },
  {
   "cell_type": "code",
   "execution_count": null,
   "metadata": {},
   "outputs": [],
   "source": []
  },
  {
   "cell_type": "markdown",
   "metadata": {},
   "source": [
    "### November, 29 - 1 / only_python\n",
    "\n",
    "Problem 1:\n",
    "\n",
    "1'den 1000'e kadar olan sayılardan mükemmel sayı olanları ekrana yazdırın.\n",
    "\n",
    "Bunun için bir sayının mükemmel olup olmadığını dönen bir tane fonksiyon yazın.\n",
    "\n",
    "*Bir sayının bölenlerinin toplamı kendine eşitse bu sayı mükemmel bir sayıdır. Örnek olarak 6 mükemmel bir sayıdır (1 + 2 + 3 = 6).*"
   ]
  },
  {
   "cell_type": "code",
   "execution_count": null,
   "metadata": {},
   "outputs": [],
   "source": []
  },
  {
   "cell_type": "markdown",
   "metadata": {},
   "source": [
    "### November, 29 - 2 / only_python\n",
    "\n",
    "Problem 2:\n",
    "\n",
    "Kullanıcıdan 2 tane sayı alarak bu sayıların en büyük ortak bölenini (EBOB) dönen bir tane fonksiyon yazın. "
   ]
  },
  {
   "cell_type": "code",
   "execution_count": null,
   "metadata": {},
   "outputs": [],
   "source": []
  },
  {
   "cell_type": "markdown",
   "metadata": {},
   "source": [
    "### November, 29 - 3 / only_python\n",
    "\n",
    "Problem 3:\n",
    "\n",
    "Kullanıcıdan 2 tane sayı alarak bu sayıların en küçük ortak katlarını (EKOK) dönen bir tane fonksiyon yazın."
   ]
  },
  {
   "cell_type": "code",
   "execution_count": null,
   "metadata": {},
   "outputs": [],
   "source": []
  },
  {
   "cell_type": "markdown",
   "metadata": {},
   "source": [
    "### November, 29 - 4 / only_python\n",
    "\n",
    "Problem 4:\n",
    "\n",
    "Kullanıcıdan 2 basamaklı bir sayı alın ve bu sayının okunuşunu bulan bir fonksiyon yazın."
   ]
  },
  {
   "cell_type": "code",
   "execution_count": null,
   "metadata": {},
   "outputs": [],
   "source": []
  },
  {
   "cell_type": "markdown",
   "metadata": {},
   "source": [
    "### November, 29 - 5 / only_python\n",
    "\n",
    "Problem 5:\n",
    "\n",
    "1'den 100'e kadar olan sayılardan pisagor üçgeni oluşturanları ekrana yazdıran bir fonksiyon yazın.(a <= 100,b <= 100)"
   ]
  },
  {
   "cell_type": "code",
   "execution_count": null,
   "metadata": {},
   "outputs": [],
   "source": []
  },
  {
   "cell_type": "markdown",
   "metadata": {},
   "source": [
    "# Only_python kanalında şimdiye kadar sorulmuş 37 soru bulabildim."
   ]
  },
  {
   "cell_type": "markdown",
   "metadata": {},
   "source": [
    "### Examples_From_Mentor - 1\n",
    "\n",
    "Heim'da kalan 3 ayrı kişi alışveriş için ilk defa beraber merkeze gidiyorlar.\n",
    "\n",
    "1. si haftada 1 gün alışverişe gidiyor ve 4 kişilik ailesi için 21 tane 6'lı brotchen paketi alıyor.\n",
    "2. si ise 3 günde 1 alışverişe gidiyor ve 5 kişilik ailesi için 11 tane 6'lı brotchen paketi alıyor.\n",
    "3. si ise 5 günde 1 alışverişe gidiyor ve 6 kişilik ailesi için 19 tane 6'lı brotchen paketi alıyor.\n",
    "\n",
    "* Her ailede 2 ebeveyn olduğu ve her ebeveynin günde 9 brotchen yediği kabul edilecektir.\n",
    "* Her çocuğun yaşı farketmeksizin günde 4 brotchen yediği kabul edilecektir.\n",
    "* Her ailenin alışverişe ilk beraber gittikleri gün stoklarında 10 tane 6'lı brotchen paketi olduğu kabul edilecektir.\n",
    "* Her alışveriş günü önce alış veriş yapılıp ardından ekmek tüketildiği kabul edilecektir.\n",
    "\n",
    "Soru 1 : Ailelerin stokları kaçıncı alışverişe gitmelerinden sonra tükenir ?\n",
    "Soru 2 : Ailelerin stokları kaçıncı günlerinde tükenir ?\n",
    "Soru 3 : Aileler her alışverişe gittiklerinde en az kaç tane daha fazla 6'lı brotchen paketi alsaydı stokları\n",
    "en az 5 gün daha fazla dayanırdı ?"
   ]
  },
  {
   "cell_type": "code",
   "execution_count": null,
   "metadata": {},
   "outputs": [],
   "source": []
  },
  {
   "cell_type": "markdown",
   "metadata": {},
   "source": [
    "### Examples_From_Mentor - 2\n",
    "\n",
    "Soru - 1\n",
    "\n",
    "0 dan bütük bir gün değeri girilmesi istenip, değer 1 ise \"After 1 day .... \" 1'den büyük ise \"After x days ... \" şeklinde bir çıktı verecek programı yazalım. (Logical Operations ile (And , Or etc. ) If leri kullanmadan.)\n",
    "\n",
    "x = int(input(\"sayi gir : \"))\n",
    "\n",
    "print(\"After {} day{} your money.\".format(x, ...))\n",
    "\n",
    "Soru - 2\n",
    "\n",
    "Aynı şekilde kullanıcıdan istenen bir pozitif sayıyı sıralama sayısına dönüştüren bir program yazalım.\n",
    "\n",
    "y = int(input(\"sayi gir : \"))\n",
    "\n",
    "print(\"{}{}\".format(y, ... )) # 1 st 2 nd 3 rd 4546 th\n",
    "\n",
    "1st\n",
    "2nd\n",
    "3rd\n",
    "4.... th\n",
    "\n",
    "Extra ( Uğraşmak İsteyenlere ):\n",
    "\n",
    "Sıralama sayıları ingilizce de şu şekilde gitmekteymiş:\n",
    "\n",
    "1st 2nd 3rd 4th 5th 6th 7th 8th 9th 10th 11th 12th 13th 14th 15th 16th 17th 18th 19th 20th\n",
    "\n",
    "21st 22nd 23rd 24 - 30th\n",
    "\n",
    "31st 32nd 33rd 34 - 40th\n",
    "\n",
    "Yani 11 eleven iken, 21 vs. twenty-one olduğu için sayıların yazılışında birler basamağı\n",
    "\n",
    "1 olan 1st,\n",
    "\n",
    "2 olan 2nd\n",
    "\n",
    "ve 3 olan 3rd ile bitiyor.\n",
    "\n",
    "Mesela:\n",
    "\n",
    "222 -> 222nd\n",
    "\n",
    "1234 -> 1234th"
   ]
  },
  {
   "cell_type": "code",
   "execution_count": null,
   "metadata": {},
   "outputs": [],
   "source": []
  },
  {
   "cell_type": "markdown",
   "metadata": {},
   "source": [
    "### Examples_From_Mentor - 3\n",
    "\n",
    "Kullanıcıdan \"name\" adında bir değişken isteyelim.\n",
    "\n",
    "Task 1 : Sadece string fonksiyonları kullanarak ilk harfi küçük diğer harfleri büyük olmasını sağlayalım.\n",
    "\n",
    "Örnek input - 1 : OsMaN\n",
    "\n",
    "İstenen Output-1: oSMAN\n",
    "\n",
    "Örnek input - 2 : aLi\n",
    "\n",
    "İstenen Output-2: aLI\n",
    "\n",
    "Task 2 : \"name_titled\" adında bir değişken tanımlayıp, name.title() değerini atayalım.\n",
    "\n",
    "Varsa orta harflerinin büyük; ilk, son ve kalan harflerin ise küçük olmasını sağlayalım.\n",
    "\n",
    "*Dipnot : string fonksiyonlarını kullanamayalım bu sefer.\n",
    "\n",
    "Örnek input - 1 : durna\n",
    "\n",
    "İstenen Output-1: duRna\n",
    "\n",
    "Örnek input - 2 : text\n",
    "\n",
    "İstenen Output-2: tEXt\n",
    "\n",
    "Örnek input - 3 : Ak\n",
    "\n",
    "İstenen Output-2: ak\n",
    "\n",
    "Örnek input - 2 : A\n",
    "\n",
    "İstenen Output-2: a"
   ]
  },
  {
   "cell_type": "code",
   "execution_count": null,
   "metadata": {},
   "outputs": [],
   "source": []
  },
  {
   "cell_type": "markdown",
   "metadata": {},
   "source": [
    "### Examples_From_Mentor - 4\n",
    "\n",
    "Kullanıcının girdiği bir cümledeki sadece sayıları alt alta yazdıran bir program yazalım.\n",
    "\n",
    "Tasks : \n",
    "1. \"test\" adında değişken oluşturup, kullanıcıdan string formatında istenen girdi değerini atayalım.\n",
    "2. Girilen her bir kelimenin string mi integer mı olduğuna karar verelim.\n",
    "3. Integer olanları alt alta ekrana yazdıralım.\n",
    "\n",
    "Dipnot :\n",
    "1. Kullanıcının integer dışında sayısal bir değer girmeyeceğini varsayalım. (float vs. kontrollerine gerek yok.)\n",
    "2. Kullanıcının gireceği cümledeki kelimelerin aralarında birer boşluk olduğunu varsayalım.\n",
    "(Zorlama örnekler için ekstra kontrollere gerek yok.)\n",
    "\n",
    "Ekstra (Uğraşmak İsteyenlere) :\n",
    "\n",
    "İsterseniz her kelime için string olanların tek tek ASCII kodlarını - aralarında virgüller olacak\n",
    "\n",
    "şekilde integerları da oldukları gibi alt alta ekrana yazdıralım.\n",
    "\n",
    "Örnek Input : 2ali 5 ekm3ğe 400 verdi.\n",
    "\n",
    "Örnek Output :\n",
    "\n",
    "5\n",
    "\n",
    "400\n",
    "\n",
    "Ekstra için ise Output:\n",
    "\n",
    "50, 97, 108, 105\n",
    "\n",
    "5\n",
    "\n",
    "101, 107, 109, 51, 287, 101\n",
    "\n",
    "400\n",
    "\n",
    "118, 101, 114, 100, 105, 46"
   ]
  },
  {
   "cell_type": "code",
   "execution_count": null,
   "metadata": {},
   "outputs": [],
   "source": []
  },
  {
   "cell_type": "markdown",
   "metadata": {},
   "source": [
    "### Examples_From_Mentor - 5\n",
    "\n",
    "Kullanıcıdan bir sayı ile yine kullanıcıdan bir taban değeri alıp girilen sayının girilen\n",
    "\n",
    "taban değerindeki karşılığını ekrana basan programı yazalım.\n",
    "\n",
    "Input - 1 :\n",
    "\n",
    "Sayı giriniz            : 127\n",
    "\n",
    "Taban değeri giriniz    : 2\n",
    "\n",
    "Output - 1 :\n",
    "\n",
    "Sonucunuz               : 1111111\n",
    "\n",
    "Input - 2 :\n",
    "\n",
    "Sayı giriniz            : 127\n",
    "\n",
    "Taban değeri giriniz    : 5\n",
    "\n",
    "Output - 2 :\n",
    "\n",
    "Sonucunuz               : 1002\n",
    "\n",
    "Input - 3 :\n",
    "\n",
    "Sayı giriniz            : 222\n",
    "\n",
    "Taban değeri giriniz    : 9\n",
    "\n",
    "Output - 3 :\n",
    "\n",
    "Sonucunuz               : 266\n",
    "\n",
    "Extra (Uğraşmak İsteyenlere):\n",
    "\n",
    "Eğer kullanıcı 10 dan büyük bir değer girerse ekrana şu şekilde sonuçlar çıkmasını sağlayalım.\n",
    "\n",
    "Extra Input :\n",
    "\n",
    "Sayı giriniz            : 2500\n",
    "\n",
    "Taban değeri giriniz    : 16\n",
    "\n",
    "Extra Output :\n",
    "\n",
    "Sonucunuz               : 9C4"
   ]
  },
  {
   "cell_type": "code",
   "execution_count": null,
   "metadata": {},
   "outputs": [],
   "source": []
  }
 ],
 "metadata": {
  "language_info": {
   "name": "python"
  },
  "orig_nbformat": 4
 },
 "nbformat": 4,
 "nbformat_minor": 2
}
