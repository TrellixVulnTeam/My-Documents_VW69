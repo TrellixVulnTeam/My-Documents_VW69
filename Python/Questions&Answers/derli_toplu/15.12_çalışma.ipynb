{
 "cells": [
  {
   "cell_type": "markdown",
   "metadata": {},
   "source": [
    "### November, 11 - 2 / only_python (Faktoriyellerin çarpımı Sorusu)\n",
    "\n",
    "Create a function that takes an integer n and returns the factorial of factorials. \n",
    "\n",
    "See below examples for a better understanding:\n",
    "\n",
    "fact_of_fact(4) ➞ 288\n",
    "4! * 3! * 2! * 1! = 288\n",
    "\n",
    "fact_of_fact(5) ➞ 34560\n",
    "\n",
    "fact_of_fact(6) ➞ 24883200"
   ]
  },
  {
   "cell_type": "code",
   "execution_count": 1,
   "metadata": {},
   "outputs": [
    {
     "name": "stdout",
     "output_type": "stream",
     "text": [
      "288\n",
      "34560\n",
      "24883200\n"
     ]
    }
   ],
   "source": [
    "# Kullanıcıdan sayı istenir. 1 e kadar faktöriyel değerleri çarpımı dönülür.\n",
    "\n",
    "# 4! = 1 * 2 * 3 * 4 = 24\n",
    "\n",
    "def factoriel(sayı):\n",
    "    faktoriyel = 1\n",
    "    for i in range(2, sayı + 1):\n",
    "        faktoriyel *= i\n",
    "    return faktoriyel\n",
    "\n",
    "def fact_of_fact(number):\n",
    "    çarpım_sonucu = 1\n",
    "    for i in range(number, 0, -1):\n",
    "        çarpım_sonucu *= factoriel(i)\n",
    "    return çarpım_sonucu\n",
    "\n",
    "print(fact_of_fact(4))\n",
    "print(fact_of_fact(5))\n",
    "print(fact_of_fact(6))"
   ]
  },
  {
   "cell_type": "code",
   "execution_count": 3,
   "metadata": {},
   "outputs": [
    {
     "name": "stdout",
     "output_type": "stream",
     "text": [
      "288\n",
      "34560\n",
      "24883200\n"
     ]
    }
   ],
   "source": [
    "# 4! = (4 * 3!) = (4 * (3 * 2!)) = (4 * (3 * (2 * 1!))) = (4 * (3 * (2 * 1)))\n",
    "# (4 * (3 * (2 * 1))) = (4 * (3 * 2)) = (4 * 6) = 24\n",
    "\n",
    "def factoriel2(sayı2):\n",
    "    sonuc = 1\n",
    "    if sayı2 == 1:\n",
    "        return 1\n",
    "    else:\n",
    "        sonuc = sayı2 * factoriel2(sayı2 - 1)\n",
    "    return sonuc\n",
    "\n",
    "def fact_of_fact(number):\n",
    "    çarpım_sonucu = 1\n",
    "    for i in range(number, 0, -1):\n",
    "        çarpım_sonucu *= factoriel2(i)\n",
    "    return çarpım_sonucu\n",
    "\n",
    "print(fact_of_fact(4))\n",
    "print(fact_of_fact(5))\n",
    "print(fact_of_fact(6))"
   ]
  },
  {
   "cell_type": "code",
   "execution_count": 24,
   "metadata": {},
   "outputs": [
    {
     "name": "stdout",
     "output_type": "stream",
     "text": [
      "288\n",
      "34560\n",
      "24883200\n"
     ]
    }
   ],
   "source": [
    "import math\n",
    "\n",
    "def fact_of_fact(number):\n",
    "    çarpım_sonucu = 1\n",
    "    for i in range(number, 0, -1):\n",
    "        çarpım_sonucu *= math.factorial(i)\n",
    "    return çarpım_sonucu\n",
    "\n",
    "print(fact_of_fact(4))\n",
    "print(fact_of_fact(5))\n",
    "print(fact_of_fact(6))"
   ]
  },
  {
   "cell_type": "markdown",
   "metadata": {},
   "source": [
    "### November, 21 - 2 / only_python (Armstrong Number Sorusu)\n",
    "\n",
    "ÖDEV - 2\n",
    "\n",
    "Task:\n",
    "Find out if a given number is an \"Armstrong Number\".\n",
    "\n",
    "* An n-digit number that is the sum of the nth powers of its digits is called an n-Armstrong number. Examples :\n",
    "\n",
    "1. 371 = 33 + 73 + 13;\n",
    "2. 9474 = 94 + 44 + 74 + 44;\n",
    "3. 93084 = 95 + 35 + 05 + 85 + 45.\n",
    "\n",
    "* Write a Python program that;\n",
    "\n",
    "1. takes a positive integer number from the user,\n",
    "2. checks the entered number if it is Armstrong,\n",
    "3. consider the negative, float and any entries other than numeric values then display a warning message to the user."
   ]
  },
  {
   "cell_type": "code",
   "execution_count": 5,
   "metadata": {},
   "outputs": [
    {
     "name": "stdout",
     "output_type": "stream",
     "text": [
      "Girmiş olduğunuz sayı olan 9474 bir armstrongdur.\n",
      "Girmiş olduğunuz sayı olan 9474 bir armstrong sayıdır.\n",
      "Girmiş olduğunuz sayı olan 9474 bir armstrong sayıdır.\n"
     ]
    }
   ],
   "source": [
    "sayı = int(input(\"Sayı giriniz : \"))\n",
    "\n",
    "def armstrong(sayı):\n",
    "    toplam = 0\n",
    "    for i in str(sayı): # 371 -> [ \"3\" , \"7\" , \"1\" ] list[0] * 3 = \"333\"\n",
    "        toplam += int(i) ** len(str(sayı))\n",
    "    if toplam == sayı:\n",
    "        return True\n",
    "    else:\n",
    "        return False\n",
    "\n",
    "text = \"Girmiş olduğunuz sayı olan \" + str(sayı) + \" bir \"\n",
    "if armstrong(sayı):\n",
    "    text += \"armstrongdur.\"\n",
    "else:\n",
    "    text += \"armstrong değildir.\"\n",
    "    \n",
    "print(text)\n",
    "\n",
    "print(\"Girmiş olduğunuz sayı olan {} bir armstrong sayı{}.\".format(sayı, armstrong(sayı) and \"dır\" or \" değildir\"))\n",
    "\n",
    "print(\"Girmiş olduğunuz sayı olan {} bir armstrong sayı{}.\".format(sayı, \"dır\" if armstrong(sayı) else \" değildir\"))"
   ]
  },
  {
   "cell_type": "code",
   "execution_count": 9,
   "metadata": {},
   "outputs": [
    {
     "name": "stdout",
     "output_type": "stream",
     "text": [
      "Girmiş olduğunuz sayı olan 371 bir armstrong sayıdır.\n"
     ]
    }
   ],
   "source": [
    "sayı = int(input(\"Sayı giriniz : \"))\n",
    "\n",
    "def armstrong(sayı):\n",
    "    \n",
    "    # toplam = 0\n",
    "    # for i in str(sayı):\n",
    "    #     toplam += int(i) ** len(str(sayı))\n",
    "        # toplam = sum([int(i) ** len(str(sayı)) for i in str(sayı)])\n",
    "        # toplam = sum(list(int(i) ** len(str(sayı)) for i in str(sayı)))\n",
    "        # toplam = sum(list(map(lambda x : int(x) ** len(str(sayı)),str(sayı))))\n",
    "        # toplam = sum([map(lambda x : int(x) ** len(str(sayı)),str(sayı))])\n",
    "    # if toplam == sayı:\n",
    "    #     return True\n",
    "    # else:\n",
    "    #     return False\n",
    "    \n",
    "    return sum([int(i) ** len(str(sayı)) for i in str(sayı)]) == sayı\n",
    "    \n",
    "print(\"Girmiş olduğunuz sayı olan {} bir armstrong sayı{}.\".format(sayı, \"dır\" if armstrong(sayı) else \" değildir\"))"
   ]
  },
  {
   "cell_type": "code",
   "execution_count": 15,
   "metadata": {},
   "outputs": [
    {
     "name": "stdout",
     "output_type": "stream",
     "text": [
      "['x1', 'x2', 'x3']\n",
      "['y1', 'y2', 'y3']\n",
      "['z1', 'z2', 'z3']\n",
      "[['x1', 'x2', 'x3']]\n",
      "[['y1', 'y2', 'y3']]\n",
      "[['z1', 'z2', 'z3']]\n"
     ]
    }
   ],
   "source": [
    "sos = [[\"x1\", \"x2\", \"x3\"],\n",
    "       [\"y1\", \"y2\", \"y3\"],\n",
    "       [\"z1\", \"z2\", \"z3\"]]\n",
    "\n",
    "print(*sos, sep=\"\\n\")\n",
    "\n",
    "vertical = list(map(lambda *x: [*x], sos))\n",
    "\n",
    "print(*vertical, sep=\"\\n\")\n"
   ]
  },
  {
   "cell_type": "code",
   "execution_count": 16,
   "metadata": {},
   "outputs": [
    {
     "name": "stdout",
     "output_type": "stream",
     "text": [
      "['a', 'a2', 'a3']\n",
      "['b', 'b2', 'b3']\n",
      "['c', 'c2', 'c3']\n"
     ]
    }
   ],
   "source": [
    "a = [\"a\", \"b\", \"c\"]\n",
    "a2 = [\"a2\", \"b2\", \"c2\"]\n",
    "a3 = [\"a3\", \"b3\", \"c3\"]\n",
    "\n",
    "vertical = list(map(lambda x, y, z : [x, y, z], a, a2, a3))\n",
    "\n",
    "print(*vertical, sep=\"\\n\")"
   ]
  },
  {
   "cell_type": "code",
   "execution_count": null,
   "metadata": {},
   "outputs": [],
   "source": [
    "sayı = int(input(\"Sayı giriniz : \"))\n",
    "çarpım = 1\n",
    "\n",
    "for i in range(2, sayı+1):\n",
    "    çarpım *=(i ** (sayı + 1 - i))\n",
    "    \n",
    "print(çarpım)"
   ]
  },
  {
   "cell_type": "code",
   "execution_count": 22,
   "metadata": {},
   "outputs": [
    {
     "name": "stdout",
     "output_type": "stream",
     "text": [
      "2, 3, 4, 288\n"
     ]
    }
   ],
   "source": [
    "sayı = int(input(\"Sayı giriniz : \"))\n",
    "çarpım = 1\n",
    "listem = []\n",
    "\n",
    "for i in range(2, sayı+1):\n",
    "    listem.append(i ** (sayı + 1 - i))\n",
    "    \n",
    "for i in listem:\n",
    "    çarpım *= i\n",
    "\n",
    "# aynı elemanlar ile toplama vs. başka bir işlem istenirse\n",
    "toplam = 0\n",
    "for i in listem:\n",
    "    toplam += i\n",
    "    \n",
    "print(çarpım)"
   ]
  },
  {
   "cell_type": "code",
   "execution_count": 20,
   "metadata": {},
   "outputs": [
    {
     "name": "stdout",
     "output_type": "stream",
     "text": [
      "288\n"
     ]
    }
   ],
   "source": [
    "sayı = int(input(\"Sayı giriniz : \"))\n",
    "\n",
    "çarpım = [(i ** (sayı + 1 - i)) for i in range(2, sayı + 1)]\n",
    "\n",
    "result = 1\n",
    "for i in çarpım:\n",
    "    result *= i\n",
    "\n",
    "print(result)"
   ]
  }
 ],
 "metadata": {
  "interpreter": {
   "hash": "b3ba2566441a7c06988d0923437866b63cedc61552a5af99d1f4fb67d367b25f"
  },
  "kernelspec": {
   "display_name": "Python 3.8.5 64-bit ('base': conda)",
   "language": "python",
   "name": "python3"
  },
  "language_info": {
   "codemirror_mode": {
    "name": "ipython",
    "version": 3
   },
   "file_extension": ".py",
   "mimetype": "text/x-python",
   "name": "python",
   "nbconvert_exporter": "python",
   "pygments_lexer": "ipython3",
   "version": "3.8.5"
  },
  "orig_nbformat": 4
 },
 "nbformat": 4,
 "nbformat_minor": 2
}
