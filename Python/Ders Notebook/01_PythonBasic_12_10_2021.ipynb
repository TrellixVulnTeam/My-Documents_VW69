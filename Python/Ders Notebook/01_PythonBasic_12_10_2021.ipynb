{
  "nbformat": 4,
  "nbformat_minor": 0,
  "metadata": {
    "colab": {
      "name": "01_PythonBasic_12.10.2021.ipynb",
      "provenance": [],
      "collapsed_sections": []
    },
    "kernelspec": {
      "name": "python3",
      "display_name": "Python 3"
    },
    "language_info": {
      "name": "python"
    }
  },
  "cells": [
    {
      "cell_type": "code",
      "metadata": {
        "colab": {
          "base_uri": "https://localhost:8080/"
        },
        "id": "vByW-t_NcjbS",
        "outputId": "819d3e04-791f-4993-fcbb-68f2b17bd1d0"
      },
      "source": [
        "print(\"hello world\")"
      ],
      "execution_count": 1,
      "outputs": [
        {
          "output_type": "stream",
          "name": "stdout",
          "text": [
            "hello world\n"
          ]
        }
      ]
    },
    {
      "cell_type": "markdown",
      "metadata": {
        "id": "Ih6PFXN1cyvc"
      },
      "source": [
        "istediğm herşeyi yazarım"
      ]
    },
    {
      "cell_type": "code",
      "metadata": {
        "colab": {
          "base_uri": "https://localhost:8080/"
        },
        "id": "KFIhFbuyc3kw",
        "outputId": "9dbf1857-440f-4900-cfa6-17b2e8285b91"
      },
      "source": [
        "print(\"merhaba\")"
      ],
      "execution_count": 4,
      "outputs": [
        {
          "output_type": "stream",
          "name": "stdout",
          "text": [
            "merhaba\n"
          ]
        }
      ]
    },
    {
      "cell_type": "code",
      "metadata": {
        "id": "449A3hZXc-lE"
      },
      "source": [
        ""
      ],
      "execution_count": null,
      "outputs": []
    },
    {
      "cell_type": "markdown",
      "metadata": {
        "id": "7Peoi2qhdMnp"
      },
      "source": [
        "ekranı merhaba yazdıran kod yazalım\n"
      ]
    },
    {
      "cell_type": "code",
      "metadata": {
        "colab": {
          "base_uri": "https://localhost:8080/"
        },
        "id": "IP7ULIFOdNRs",
        "outputId": "efa4a4e6-87cf-4554-e1ff-86e6b4e8625b"
      },
      "source": [
        "print('Hello World!')\n"
      ],
      "execution_count": 5,
      "outputs": [
        {
          "output_type": "stream",
          "name": "stdout",
          "text": [
            "Hello World!\n"
          ]
        }
      ]
    },
    {
      "cell_type": "code",
      "metadata": {
        "colab": {
          "base_uri": "https://localhost:8080/",
          "height": 129
        },
        "id": "xnYKwZLblLlr",
        "outputId": "e9eec297-ffdc-4929-e62f-d7e182ad1e06"
      },
      "source": [
        "print(\"hello world')"
      ],
      "execution_count": 6,
      "outputs": [
        {
          "output_type": "error",
          "ename": "SyntaxError",
          "evalue": "ignored",
          "traceback": [
            "\u001b[0;36m  File \u001b[0;32m\"<ipython-input-6-278f78f45249>\"\u001b[0;36m, line \u001b[0;32m1\u001b[0m\n\u001b[0;31m    print(\"hello world')\u001b[0m\n\u001b[0m                        ^\u001b[0m\n\u001b[0;31mSyntaxError\u001b[0m\u001b[0;31m:\u001b[0m EOL while scanning string literal\n"
          ]
        }
      ]
    },
    {
      "cell_type": "code",
      "metadata": {
        "colab": {
          "base_uri": "https://localhost:8080/"
        },
        "id": "oOa-Q4MVnGuz",
        "outputId": "737edf00-d92e-4049-db5c-b3a7be0b4fc5"
      },
      "source": [
        "print(\"çiftle başladım çiftle bitirdim\")"
      ],
      "execution_count": 7,
      "outputs": [
        {
          "output_type": "stream",
          "name": "stdout",
          "text": [
            "çiftle başladım çiftle bitirdim\n"
          ]
        }
      ]
    },
    {
      "cell_type": "code",
      "metadata": {
        "colab": {
          "base_uri": "https://localhost:8080/",
          "height": 129
        },
        "id": "Lli5jY_LnQ7I",
        "outputId": "94329d36-dfc3-40c6-9d52-53ae4cfe0967"
      },
      "source": [
        "print(\"benim adım andrew     \n",
        " sizinle olmak çok güzel    \n",
        "   dersimiz iyi geçiyor\")"
      ],
      "execution_count": 11,
      "outputs": [
        {
          "output_type": "error",
          "ename": "SyntaxError",
          "evalue": "ignored",
          "traceback": [
            "\u001b[0;36m  File \u001b[0;32m\"<ipython-input-11-f109c6aa0476>\"\u001b[0;36m, line \u001b[0;32m1\u001b[0m\n\u001b[0;31m    print(\"benim adım andrew\u001b[0m\n\u001b[0m                                 ^\u001b[0m\n\u001b[0;31mSyntaxError\u001b[0m\u001b[0;31m:\u001b[0m EOL while scanning string literal\n"
          ]
        }
      ]
    },
    {
      "cell_type": "code",
      "metadata": {
        "colab": {
          "base_uri": "https://localhost:8080/"
        },
        "id": "EKJG4VVQnfGH",
        "outputId": "7d31b685-50ba-454e-fe94-1cc606d2e968"
      },
      "source": [
        "print(\"\"\"benim adım andrew\n",
        "      sizinle olmak çok güzel\n",
        "      dersimiz iyi geçiyor\n",
        "      istediğm kadar uzun yazabilirim\"\"\")"
      ],
      "execution_count": 12,
      "outputs": [
        {
          "output_type": "stream",
          "name": "stdout",
          "text": [
            "benim adım andrew\n",
            "      sizinle olmak çok güzel\n",
            "      dersimiz iyi geçiyor\n",
            "      istediğm kadar uzun yazabilirim\n"
          ]
        }
      ]
    },
    {
      "cell_type": "code",
      "metadata": {
        "colab": {
          "base_uri": "https://localhost:8080/"
        },
        "id": "PmnHyT1lnlek",
        "outputId": "88316252-aabb-48b6-b8b5-cffa668138d1"
      },
      "source": [
        "print('''burada da\n",
        "istediğim\n",
        "kadar\n",
        "uzun \n",
        "yazabilirim.''')"
      ],
      "execution_count": 13,
      "outputs": [
        {
          "output_type": "stream",
          "name": "stdout",
          "text": [
            "burada da\n",
            "istediğim\n",
            "kadar\n",
            "uzun \n",
            "yazabilirim.\n"
          ]
        }
      ]
    },
    {
      "cell_type": "code",
      "metadata": {
        "colab": {
          "base_uri": "https://localhost:8080/"
        },
        "id": "skzoZWeSn-Eg",
        "outputId": "4cfb5a86-3c8f-409a-edfa-19b2e6cae474"
      },
      "source": [
        "print(\"\"\"benim adım andrew 'I'm so happy'\n",
        "      sizinle olmak çok güzel\n",
        "      dersimiz iyi geçiyor\n",
        "      istediğm kadar uzun yazabilirim\"\"\")"
      ],
      "execution_count": 14,
      "outputs": [
        {
          "output_type": "stream",
          "name": "stdout",
          "text": [
            "benim adım andrew 'I'm so happy'\n",
            "      sizinle olmak çok güzel\n",
            "      dersimiz iyi geçiyor\n",
            "      istediğm kadar uzun yazabilirim\n"
          ]
        }
      ]
    },
    {
      "cell_type": "code",
      "metadata": {
        "colab": {
          "base_uri": "https://localhost:8080/"
        },
        "id": "l6j1WEzdoNZx",
        "outputId": "bd0d8f0c-c13f-4bc9-a417-d5eff135430d"
      },
      "source": [
        "print('''benim adım andrew \"I'm so happy\"\n",
        "\n",
        "      sizinle olmak çok güzel\n",
        "      dersimiz iyi geçiyor\n",
        "      istediğm kadar uzun yazabilirim''')"
      ],
      "execution_count": 16,
      "outputs": [
        {
          "output_type": "stream",
          "name": "stdout",
          "text": [
            "benim adım andrew \"I'm so happy\"\n",
            "\n",
            "      sizinle olmak çok güzel\n",
            "      dersimiz iyi geçiyor\n",
            "      istediğm kadar uzun yazabilirim\n"
          ]
        }
      ]
    },
    {
      "cell_type": "code",
      "metadata": {
        "colab": {
          "base_uri": "https://localhost:8080/"
        },
        "id": "C4BlYajSoWbY",
        "outputId": "5bbc31f2-ae2e-49bb-e028-034e77ad5b09"
      },
      "source": [
        "print(\"He said, \\\"I'm so happy\\\"\")"
      ],
      "execution_count": 21,
      "outputs": [
        {
          "output_type": "stream",
          "name": "stdout",
          "text": [
            "He said, \"I'm so happy\"\n"
          ]
        }
      ]
    },
    {
      "cell_type": "code",
      "metadata": {
        "colab": {
          "base_uri": "https://localhost:8080/",
          "height": 35
        },
        "id": "XSNDWIspo0A-",
        "outputId": "b927c1ea-01ba-4709-8302-a6d2973fe5b1"
      },
      "source": [
        "\"Merhaba\"\n",
        "\"I'm so happy\""
      ],
      "execution_count": 26,
      "outputs": [
        {
          "output_type": "execute_result",
          "data": {
            "application/vnd.google.colaboratory.intrinsic+json": {
              "type": "string"
            },
            "text/plain": [
              "\"I'm so happy\""
            ]
          },
          "metadata": {},
          "execution_count": 26
        }
      ]
    },
    {
      "cell_type": "code",
      "metadata": {
        "colab": {
          "base_uri": "https://localhost:8080/"
        },
        "id": "EBMXliu1piXI",
        "outputId": "1a5e48c0-324f-4cfe-b11a-6dd2eee58c22"
      },
      "source": [
        "print('''\"tek satır\"''')"
      ],
      "execution_count": 27,
      "outputs": [
        {
          "output_type": "stream",
          "name": "stdout",
          "text": [
            "\"tek satır\"\n"
          ]
        }
      ]
    },
    {
      "cell_type": "code",
      "metadata": {
        "colab": {
          "base_uri": "https://localhost:8080/",
          "height": 129
        },
        "id": "aZt0vSCTp92q",
        "outputId": "397a14dc-f515-4a09-8d33-0ea3a341469b"
      },
      "source": [
        "\"\"metin\"\""
      ],
      "execution_count": 28,
      "outputs": [
        {
          "output_type": "error",
          "ename": "SyntaxError",
          "evalue": "ignored",
          "traceback": [
            "\u001b[0;36m  File \u001b[0;32m\"<ipython-input-28-64b1eecb54f2>\"\u001b[0;36m, line \u001b[0;32m1\u001b[0m\n\u001b[0;31m    \"\"metin\"\"\u001b[0m\n\u001b[0m          ^\u001b[0m\n\u001b[0;31mSyntaxError\u001b[0m\u001b[0;31m:\u001b[0m invalid syntax\n"
          ]
        }
      ]
    },
    {
      "cell_type": "code",
      "metadata": {
        "colab": {
          "base_uri": "https://localhost:8080/"
        },
        "id": "xJIMzNf4qStc",
        "outputId": "b24cd08a-ddba-4a02-d818-3fdbd06b42b3"
      },
      "source": [
        "print(\"ilk satır\") \n",
        "print()\n",
        "print(\"\")\n",
        "#print('''''')\n",
        "print('son satır')"
      ],
      "execution_count": 57,
      "outputs": [
        {
          "output_type": "stream",
          "name": "stdout",
          "text": [
            "ilk satır\n",
            "\n",
            "\n",
            "son satır\n"
          ]
        }
      ]
    },
    {
      "cell_type": "code",
      "metadata": {
        "colab": {
          "base_uri": "https://localhost:8080/"
        },
        "id": "oCCkhudIqbnw",
        "outputId": "ad4cca6f-d7f7-4810-da4b-2870006ac75a"
      },
      "source": [
        "print(\"3.14\")"
      ],
      "execution_count": 33,
      "outputs": [
        {
          "output_type": "stream",
          "name": "stdout",
          "text": [
            "3.14\n"
          ]
        }
      ]
    },
    {
      "cell_type": "code",
      "metadata": {
        "colab": {
          "base_uri": "https://localhost:8080/"
        },
        "id": "oyI4dUAJq8ts",
        "outputId": "73111d45-5202-4b42-c955-ab55941bf070"
      },
      "source": [
        "print(3.14)"
      ],
      "execution_count": 34,
      "outputs": [
        {
          "output_type": "stream",
          "name": "stdout",
          "text": [
            "3.14\n"
          ]
        }
      ]
    },
    {
      "cell_type": "code",
      "metadata": {
        "colab": {
          "base_uri": "https://localhost:8080/"
        },
        "id": "l4jEnOROrBCi",
        "outputId": "c7298785-2f38-4e64-c2c4-2b9b4577cc1b"
      },
      "source": [
        "print(''''We should have enough time for our family\"''')"
      ],
      "execution_count": 35,
      "outputs": [
        {
          "output_type": "stream",
          "name": "stdout",
          "text": [
            "'We should have enough time for our family\"\n"
          ]
        }
      ]
    },
    {
      "cell_type": "code",
      "metadata": {
        "colab": {
          "base_uri": "https://localhost:8080/"
        },
        "id": "cSPoo_3vrqjP",
        "outputId": "2595ca20-0615-4b2d-a827-86c39efb9215"
      },
      "source": [
        "# bu benim ilk açıklamam\n",
        "print(\"sizinle tanışmak güzel\")  "
      ],
      "execution_count": 41,
      "outputs": [
        {
          "output_type": "stream",
          "name": "stdout",
          "text": [
            "sizinle tanışmak güzel\n"
          ]
        }
      ]
    },
    {
      "cell_type": "code",
      "metadata": {
        "colab": {
          "base_uri": "https://localhost:8080/"
        },
        "id": "ModQlt72xune",
        "outputId": "1395751f-0742-482f-f685-0d138c4b322d"
      },
      "source": [
        "print(\"hello\")  # bu inline commenttir"
      ],
      "execution_count": 48,
      "outputs": [
        {
          "output_type": "stream",
          "name": "stdout",
          "text": [
            "hello\n"
          ]
        }
      ]
    },
    {
      "cell_type": "code",
      "metadata": {
        "colab": {
          "base_uri": "https://localhost:8080/"
        },
        "id": "VQhQRFEHyFjh",
        "outputId": "45366b45-6365-47a6-c9d5-e23e8865c551"
      },
      "source": [
        "print(\"merhaba\")\n",
        "# bu bir single-line commenttir"
      ],
      "execution_count": 47,
      "outputs": [
        {
          "output_type": "stream",
          "name": "stdout",
          "text": [
            "merhaba\n"
          ]
        }
      ]
    },
    {
      "cell_type": "code",
      "metadata": {
        "id": "HAq5Dt3LySEx"
      },
      "source": [
        "# bu açıklamanın birinci satırı\n",
        "# bu ikinci satır\n",
        "# bu üçüncü satır"
      ],
      "execution_count": 46,
      "outputs": []
    },
    {
      "cell_type": "code",
      "metadata": {
        "id": "XBtQ14yFybPA"
      },
      "source": [
        "x = 35\n",
        "y = 22  # bu müşterimin ev sayısı\n",
        "#  buradaki x müşterinin kızının ev sayısı"
      ],
      "execution_count": 49,
      "outputs": []
    },
    {
      "cell_type": "code",
      "metadata": {
        "colab": {
          "base_uri": "https://localhost:8080/"
        },
        "id": "UOA4YpyHzzsm",
        "outputId": "e751dd2a-c95c-4eb8-972a-ee54fa5b3d50"
      },
      "source": [
        "3 + 5"
      ],
      "execution_count": 50,
      "outputs": [
        {
          "output_type": "execute_result",
          "data": {
            "text/plain": [
              "8"
            ]
          },
          "metadata": {},
          "execution_count": 50
        }
      ]
    },
    {
      "cell_type": "code",
      "metadata": {
        "colab": {
          "base_uri": "https://localhost:8080/"
        },
        "id": "C_KzIrzVz6jz",
        "outputId": "1cd8baad-0dc8-45c5-b7cd-0224e6a60990"
      },
      "source": [
        "print(3+5)"
      ],
      "execution_count": 51,
      "outputs": [
        {
          "output_type": "stream",
          "name": "stdout",
          "text": [
            "8\n"
          ]
        }
      ]
    },
    {
      "cell_type": "code",
      "metadata": {
        "colab": {
          "base_uri": "https://localhost:8080/"
        },
        "id": "ugNGCM-6z-mq",
        "outputId": "a959d1ac-61ed-4218-9f58-9f9cd9b864ca"
      },
      "source": [
        "print(\"3\"+\"5\")"
      ],
      "execution_count": 52,
      "outputs": [
        {
          "output_type": "stream",
          "name": "stdout",
          "text": [
            "35\n"
          ]
        }
      ]
    },
    {
      "cell_type": "code",
      "metadata": {
        "id": "fNEMneKq0FLP"
      },
      "source": [
        "# print(\"sizinle tanışmak güzeldi\")  # açıklama"
      ],
      "execution_count": 53,
      "outputs": []
    },
    {
      "cell_type": "code",
      "metadata": {
        "id": "Q0Sy2Npu0R2p"
      },
      "source": [
        ""
      ],
      "execution_count": null,
      "outputs": []
    }
  ]
}