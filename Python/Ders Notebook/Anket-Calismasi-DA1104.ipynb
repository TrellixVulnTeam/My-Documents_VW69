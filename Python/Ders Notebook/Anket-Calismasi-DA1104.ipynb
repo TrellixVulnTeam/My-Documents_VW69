{
 "cells": [
  {
   "cell_type": "code",
   "execution_count": null,
   "metadata": {},
   "outputs": [],
   "source": [
    "while counter <= 25:\n",
    "    r= requests.get(\"https://docs.google.com/spreadsheets/d/e/2PACX-1vT1uxHYORzr53nVstVpQ3nnhdCA8LlPIhEYHrl7M3DN1UCGh2FRLpOj6sqkFPZ_GB-hdrjJHuGq8Lsu/pub?gid=1729247217&single=true&output=csv\")\n",
    "    soup = BeautifulSoup(r.content)\n",
    "    yeni=soup.prettify()\n",
    "    son =yeni.split(\"\\r\\n\")\n",
    "    Last2=son[-1].split(\",\")[-1].rstrip(\"\\n\")    \n",
    "    global e_mailler\n",
    "    for i in range(1,len(son)):\n",
    "        if son[i].split(',')[1] not in e_mailler:\n",
    "            e_mailler.append(son[i].split(',')[1])\n",
    "            Last1=son[i].split(\",\")[1]\n",
    "            counter +=1\n",
    "            konu=\"Ankete Katilim\"\n",
    "            mssg=f\"Merhaba {son[i].split(',')[2]} ,  anketimize {son[i].split(',')[1]} adresli mailinizle {i}.katilimci olarak katilim saglanmistir.\".encode(\"UTF-8\")\n",
    "            content=\"Subject: {0}\\n\\n{1}\".format(konu,mssg)\n",
    "\n",
    "            server = smtplib.SMTP(\"smtp.gmail.com\",587)\n",
    "            server.starttls()\n",
    "            server.login(\"alikrkm\",my_pass)\n",
    "            server.sendmail(\"alikrkm@gmail.com\",Last1,content)\n",
    "            print(f\"{son[i].split(',')[2]} {i}. katilimci olarak {son[i].split(',')[1]} adresine kayit onay maili gönderilmistir.\")        \n",
    "        else:\n",
    "            time.sleep(20)"
   ]
  }
 ],
 "metadata": {
  "language_info": {
   "name": "python"
  },
  "orig_nbformat": 4
 },
 "nbformat": 4,
 "nbformat_minor": 2
}
