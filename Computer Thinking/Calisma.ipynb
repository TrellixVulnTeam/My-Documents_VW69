-= değişkeni yerinde azaltır,

+= değişkeni yerinde artırmak,

*= değişkeni yerinde çarpın,

/= değişkeni yerine böl,

//= değişkeni yerinde bölmek,

%= değişkenin modülünü yerinde döndürür,

**= yerinde iktidara yükseltin.

n : yeni satır anlamına gelir,

\t: tabişaret anlamına gelir ,

\b: geri almak anlamına gelir. İmleci bir karakter sola hareket ettirir.


The following values are considered False, in that they evaluate to False when applied to a boolean operator:

None.
Zero of any numeric type: 0, 0.0, 0j
Empty sequences and collections: '', [], {}.
Other than above values, any remaining value is evaluated as True.

print('Second letter          : ' , fruit[1])
print("3rd to 5th letters     : " , fruit[2:5])

len() = uzunluk

fruit = 'orange'
fruit += ' apple'

print(fruit)

print('%(amount)d pounds of %(fruit)s left' % {'amount': 33, 'fruit':'bananas'})
output :

33 pounds of bananas left

+++++

fruit = "orange"
vegetable = "tomato"
amount = 4 
print("The amount of {} we bought is {} pounds" .format(fruit, amount))


print('{state} is the most {adjective} state of the {country}'.format(state ='California', country ='USA', adjective ='crowded'))
California is the most crowded state of the USA


print("{6} {0} {5} {3} {4} {1} {2}".format('have', 6, 'months', 'a job', 'in', 'found', 'I will'))

I will have found a job in 6 months



fruit = 'Orange'
vegetable = 'Tomato'
amount = 6
output = f"The amount of {fruit} and {vegetable} we bought are totally {amount} pounds"


result = f"{4 * 5}"

print(result)


my_name = 'JOSEPH'
output = f"My name is {my_name.capitalize()}"

print(output)


name = "Joseph"
job = "teachers"
domain = "Data Science"
message = (
     f"Hi {name}. "
     f"You are one of the {job} "
     f"in the {domain} section."
)
print(message)

Hi Joseph. You are one of the teachers in the Data Science section.



my_coin = 1000
rate = 0.07
day = 1

if day < 7 :
    my_coin *= (1+rate)
    day += 1
else:
    my_coin *= (1+rate)
    day += 1
    print(my_coin)


