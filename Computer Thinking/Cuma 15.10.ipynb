{
 "cells": [
  {
   "cell_type": "code",
   "execution_count": 1,
   "metadata": {},
   "outputs": [
    {
     "name": "stdout",
     "output_type": "stream",
     "text": [
      "3.14159\n"
     ]
    }
   ],
   "source": [
    "pi = 3.14159\n",
    "print(pi)"
   ]
  },
  {
   "cell_type": "code",
   "execution_count": 9,
   "metadata": {},
   "outputs": [
    {
     "name": "stdout",
     "output_type": "stream",
     "text": [
      "8.0\n"
     ]
    },
    {
     "data": {
      "text/plain": [
       "str"
      ]
     },
     "execution_count": 9,
     "metadata": {},
     "output_type": "execute_result"
    }
   ],
   "source": [
    "first_num = input(\"please enter a number\")\n",
    "second_num = input(\"please enter another number\")\n",
    "\n",
    "print(float(first_num) ** float(second_num))\n",
    "\n",
    "type(first_num)"
   ]
  },
  {
   "cell_type": "code",
   "execution_count": 12,
   "metadata": {},
   "outputs": [
    {
     "name": "stdout",
     "output_type": "stream",
     "text": [
      "33\n",
      "33\n"
     ]
    }
   ],
   "source": [
    "my_age = 33\n",
    "your_age = 30\n",
    "your_age = my_age\n",
    "print(your_age)\n",
    "print(my_age)\n",
    "\n"
   ]
  },
  {
   "cell_type": "code",
   "execution_count": 13,
   "metadata": {},
   "outputs": [
    {
     "name": "stdout",
     "output_type": "stream",
     "text": [
      "30\n",
      "30\n"
     ]
    }
   ],
   "source": [
    "my_age = 33\n",
    "your_age = 30\n",
    "\n",
    "\n",
    "my_age = your_age\n",
    "print(my_age)\n",
    "print(your_age)"
   ]
  },
  {
   "cell_type": "code",
   "execution_count": 3,
   "metadata": {},
   "outputs": [
    {
     "name": "stdout",
     "output_type": "stream",
     "text": [
      "The amount of orange we bought is 4 pounds\n"
     ]
    }
   ],
   "source": [
    "fruit = \"orange\"\n",
    "vegetable = \"tomato\"\n",
    "amount = 4 \n",
    "print(\"The amount of {} we bought is {} pounds\" .format(fruit, amount))"
   ]
  },
  {
   "cell_type": "code",
   "execution_count": 4,
   "metadata": {},
   "outputs": [
    {
     "name": "stdout",
     "output_type": "stream",
     "text": [
      "California is the most crowded state of the USA\n"
     ]
    }
   ],
   "source": [
    "print('{state} is the most {adjective} state of the {country}'.format(state ='California', country ='USA', adjective ='crowded'))\n"
   ]
  },
  {
   "cell_type": "code",
   "execution_count": 5,
   "metadata": {},
   "outputs": [
    {
     "name": "stdout",
     "output_type": "stream",
     "text": [
      "Good teachers know how to bring out the best in students.\n"
     ]
    }
   ],
   "source": [
    "print(\"Good {0} know how to bring out the best in {1}.\" .format('teachers','students' ))"
   ]
  },
  {
   "cell_type": "code",
   "execution_count": 7,
   "metadata": {},
   "outputs": [
    {
     "name": "stdout",
     "output_type": "stream",
     "text": [
      "16\n"
     ]
    }
   ],
   "source": [
    "x, y = 5, 3\n",
    "print((x-y) * (x+y))"
   ]
  },
  {
   "cell_type": "code",
   "execution_count": 23,
   "metadata": {},
   "outputs": [],
   "source": [
    "x = weight = int(input(\"your weight : \"))\n",
    "y = height = int(input(\"your height : \"))\n",
    "Your_body_mass_index = x / y**2"
   ]
  }
 ],
 "metadata": {
  "interpreter": {
   "hash": "b2a40fe9a0b5045c1bfad53841e4bfc468d7ec089fdf16473421afc517ea8f8d"
  },
  "kernelspec": {
   "display_name": "Python 3.10.0 64-bit",
   "name": "python3"
  },
  "language_info": {
   "codemirror_mode": {
    "name": "ipython",
    "version": 3
   },
   "file_extension": ".py",
   "mimetype": "text/x-python",
   "name": "python",
   "nbconvert_exporter": "python",
   "pygments_lexer": "ipython3",
   "version": "3.10.0"
  },
  "orig_nbformat": 4
 },
 "nbformat": 4,
 "nbformat_minor": 2
}
