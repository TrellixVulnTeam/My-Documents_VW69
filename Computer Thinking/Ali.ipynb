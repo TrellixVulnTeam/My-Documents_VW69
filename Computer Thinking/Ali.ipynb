satir_sayisi = int(input ("Satir sayisini giriniz:))
yildiz_sayisi = 2 * satir_sayisi -1
print("YILDIZ SAYISI =" , yildiz_sayisi)
