{
 "cells": [
  {
   "cell_type": "markdown",
   "metadata": {},
   "source": [
    "<center><img src=\"https://github.com/aaron-clarusway/fullstack/blob/master/itf-logo.png?raw=true\"  alt=\"alt text\" width=\"200\"/></center>\n",
    "<br>\n",
    "<h1><p style=\"text-align: center; color:darkblue\">Python Basic</p><h1>\n",
    "<center><h1>Workshop - 1</h1></center>\n",
    "<p><img align=\"right\"\n",
    "  src=\"https://secure.meetupstatic.com/photos/event/3/1/b/9/600_488352729.jpeg\"  width=\"15px\"></p>\n",
    "<br>\n",
    "\n",
    "\n",
    "# Subject: Basic Data Types and Useful Operations\n",
    "\n",
    "## Learning Goals\n",
    "\n",
    "* to work with quotes in strings,\n",
    "* to practice basic data types,\n",
    "* to consolidate basic boolean operations."
   ]
  },
  {
   "cell_type": "markdown",
   "metadata": {},
   "source": [
    "### Problem 1\n",
    "\n",
    "Write a program that multiplies three numbers entered by the user. Print the output with the format method."
   ]
  },
  {
   "cell_type": "code",
   "execution_count": 43,
   "metadata": {},
   "outputs": [
    {
     "name": "stdout",
     "output_type": "stream",
     "text": [
      "6\n"
     ]
    }
   ],
   "source": [
    "first_number  = int(input(\"Enter the first number : \"))\n",
    "second_number = int(input(\"Enter the second number : \"))\n",
    "third_number  = int(input(\"Enter the third number : \"))\n",
    "\n",
    "print(first_number * second_number * third_number)"
   ]
  },
  {
   "cell_type": "markdown",
   "metadata": {},
   "source": [
    "### Problem 2\n",
    "\n",
    "Write a program that calculates body mass index from **height** and **weight** entered by the user. \n",
    "\n",
    "Body mass index :  Weight / Height(m) * Height(m)"
   ]
  },
  {
   "cell_type": "code",
   "execution_count": 5,
   "metadata": {},
   "outputs": [
    {
     "name": "stdout",
     "output_type": "stream",
     "text": [
      "height :  1.86\n",
      "weight :  104\n",
      "bmi    :  30.061278760550348\n"
     ]
    }
   ],
   "source": [
    "height = 1.86\n",
    "weight = 104\n",
    "body_mass_index = weight / (height * height)\n",
    "\n",
    "print(\"height : \", height)\n",
    "print(\"weight : \", weight)\n",
    "print(\"bmi    : \", body_mass_index)\n"
   ]
  },
  {
   "cell_type": "markdown",
   "metadata": {},
   "source": [
    "### Problem 3\n",
    "\n",
    "With your $ 200, how many pieces of material can you get for $ 11 each? How much money do you have left after buying?"
   ]
  },
  {
   "cell_type": "code",
   "execution_count": 1,
   "metadata": {},
   "outputs": [
    {
     "name": "stdout",
     "output_type": "stream",
     "text": [
      "You can buy 18 pieces.\n",
      "You have 2 $ left.\n"
     ]
    }
   ],
   "source": [
    "money = 200\n",
    "price_of_materials = 11\n",
    "\n",
    "print(\"You can buy\" , money//price_of_materials , \"pieces.\")\n",
    "print(\"You have\" , money%price_of_materials , \"$ left.\")"
   ]
  },
  {
   "cell_type": "markdown",
   "metadata": {},
   "source": [
    "### Problem 4\n",
    "\n",
    "Ask the user for two numbers and assign these numbers to variables and replace the values of these variables with each other."
   ]
  },
  {
   "cell_type": "code",
   "execution_count": 47,
   "metadata": {},
   "outputs": [
    {
     "name": "stdout",
     "output_type": "stream",
     "text": [
      "Your first number is  : 3\n",
      "Your second number is : 4\n",
      "Now first number is   : 4\n",
      "Now second number is  : 3\n"
     ]
    }
   ],
   "source": [
    "first_number = int(input(\"Enter the first number : \"))\n",
    "second_number = int(input(\"Enter the second number : \"))\n",
    "\n",
    "print(\"Your first number is  :\" , first_number)\n",
    "print(\"Your second number is :\" , second_number)\n",
    "\n",
    "first_number, second_number = second_number, first_number\n",
    "\n",
    "print(\"Now first number is   :\" , first_number)\n",
    "print(\"Now second number is  :\" , second_number)\n"
   ]
  },
  {
   "cell_type": "markdown",
   "metadata": {},
   "source": [
    "### Problem 5\n",
    "\n",
    "Write a Python program to solve (x - y) * (x + y)."
   ]
  },
  {
   "cell_type": "code",
   "execution_count": 19,
   "metadata": {},
   "outputs": [
    {
     "name": "stdout",
     "output_type": "stream",
     "text": [
      "16\n",
      "16\n"
     ]
    }
   ],
   "source": [
    "x = 5\n",
    "y = 3\n",
    "\n",
    "solution_1 = x**2 - y**2\n",
    "solution_2 = (x-y) * (x+y)\n",
    "\n",
    "print(solution_1)\n",
    "print(solution_2)"
   ]
  },
  {
   "cell_type": "markdown",
   "metadata": {},
   "source": [
    "### Problem 6\n",
    "\n",
    "Get **word**, **seperator** and **repetition** values from the user and print the word on the screen according to the given values. \n",
    "\n",
    "Ex: ``word = ali, sep = /, repetition = 3`` ----> ``ali/ali/ali``"
   ]
  },
  {
   "cell_type": "code",
   "execution_count": 5,
   "metadata": {},
   "outputs": [
    {
     "name": "stdout",
     "output_type": "stream",
     "text": [
      "ali/ali/ali\n",
      "ali/ali/ali\n"
     ]
    }
   ],
   "source": [
    "word = \"ali\"\n",
    "sep = \"/\"\n",
    "repetition = 3\n",
    "\n",
    "print((word + sep) * (repetition -1) + word)\n",
    "print(*list([word] * repetition), sep=sep)\n"
   ]
  },
  {
   "cell_type": "markdown",
   "metadata": {},
   "source": [
    "### Problem 7\n",
    "\n",
    ">Do not run the code, try to figure out in your mind.\n",
    "\n",
    "What will be the output of the following syntax :\n",
    "\n",
    "```python\n",
    "print(True and False and (not True and False) and not (True or False))\n",
    "```"
   ]
  },
  {
   "cell_type": "code",
   "execution_count": 6,
   "metadata": {},
   "outputs": [
    {
     "name": "stdout",
     "output_type": "stream",
     "text": [
      "False\n"
     ]
    }
   ],
   "source": [
    "print(True and False and (not True and False) and not (True or False))"
   ]
  },
  {
   "cell_type": "markdown",
   "metadata": {},
   "source": [
    "### Problem 8\n",
    "\n",
    ">Do not run the code, try to figure out in your mind.\n",
    "\n",
    "What will be the output of the following syntax :\n",
    "\n",
    "```python\n",
    "print(True and False and not \"False\" and None and (\"None\" or None))\n",
    "```"
   ]
  },
  {
   "cell_type": "code",
   "execution_count": 7,
   "metadata": {},
   "outputs": [
    {
     "name": "stdout",
     "output_type": "stream",
     "text": [
      "False\n"
     ]
    }
   ],
   "source": [
    "print(True and False and not \"False\" and None and (\"None\" or None))"
   ]
  },
  {
   "cell_type": "markdown",
   "metadata": {},
   "source": [
    "### Problem 9\n",
    "\n",
    ">Do not run the code, try to figure out in your mind.\n",
    "\n",
    "What will be the output of the following syntax :\n",
    "\n",
    "```python\n",
    "print(\"clarusway\" and 0 and not \"\" and False and (\" \" or None))\n",
    "```"
   ]
  },
  {
   "cell_type": "code",
   "execution_count": 8,
   "metadata": {},
   "outputs": [
    {
     "name": "stdout",
     "output_type": "stream",
     "text": [
      "0\n"
     ]
    }
   ],
   "source": [
    "print(\"clarusway\" and 0 and not \"\" and False and (\" \" or None))"
   ]
  }
 ],
 "metadata": {
  "interpreter": {
   "hash": "b3ba2566441a7c06988d0923437866b63cedc61552a5af99d1f4fb67d367b25f"
  },
  "kernelspec": {
   "display_name": "Python 3.8.5 64-bit ('base': conda)",
   "name": "python3"
  },
  "language_info": {
   "codemirror_mode": {
    "name": "ipython",
    "version": 3
   },
   "file_extension": ".py",
   "mimetype": "text/x-python",
   "name": "python",
   "nbconvert_exporter": "python",
   "pygments_lexer": "ipython3",
   "version": "3.8.5"
  }
 },
 "nbformat": 4,
 "nbformat_minor": 2
}
